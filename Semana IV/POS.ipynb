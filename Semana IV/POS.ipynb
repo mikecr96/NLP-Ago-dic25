{
 "cells": [
  {
   "cell_type": "code",
   "execution_count": 1,
   "id": "e58c0afd",
   "metadata": {},
   "outputs": [],
   "source": [
    "from nltk import word_tokenize, pos_tag"
   ]
  },
  {
   "cell_type": "code",
   "execution_count": 2,
   "id": "2bf8ce02",
   "metadata": {},
   "outputs": [],
   "source": [
    "# text = \"John's big idea isn't all that bad.\"\n",
    "# text = \"fun, funnier, funniest\"\n",
    "text = \"Book a flight. Read a book\""
   ]
  },
  {
   "cell_type": "code",
   "execution_count": 3,
   "id": "59c8cc67",
   "metadata": {},
   "outputs": [],
   "source": [
    "tokens = word_tokenize(text)"
   ]
  },
  {
   "cell_type": "code",
   "execution_count": 4,
   "id": "dbaf9dc4",
   "metadata": {},
   "outputs": [],
   "source": [
    "tags = pos_tag(tokens)"
   ]
  },
  {
   "cell_type": "code",
   "execution_count": 5,
   "id": "81f02349",
   "metadata": {},
   "outputs": [
    {
     "name": "stdout",
     "output_type": "stream",
     "text": [
      "Token: Book, Etiqueta: VB\n",
      "Token: a, Etiqueta: DT\n",
      "Token: flight, Etiqueta: NN\n",
      "Token: ., Etiqueta: .\n",
      "Token: Read, Etiqueta: VB\n",
      "Token: a, Etiqueta: DT\n",
      "Token: book, Etiqueta: NN\n"
     ]
    }
   ],
   "source": [
    "for token, tag in tags:\n",
    "    print(f\"Token: {token}, Etiqueta: {tag}\")"
   ]
  }
 ],
 "metadata": {
  "kernelspec": {
   "display_name": "NLP25",
   "language": "python",
   "name": "python3"
  },
  "language_info": {
   "codemirror_mode": {
    "name": "ipython",
    "version": 3
   },
   "file_extension": ".py",
   "mimetype": "text/x-python",
   "name": "python",
   "nbconvert_exporter": "python",
   "pygments_lexer": "ipython3",
   "version": "3.13.7"
  }
 },
 "nbformat": 4,
 "nbformat_minor": 5
}
