{
 "cells": [
  {
   "cell_type": "code",
   "execution_count": 1,
   "id": "e58c0afd",
   "metadata": {},
   "outputs": [],
   "source": [
    "from nltk import word_tokenize, pos_tag"
   ]
  },
  {
   "cell_type": "code",
   "execution_count": 18,
   "id": "2bf8ce02",
   "metadata": {},
   "outputs": [],
   "source": [
    "# text = \"John's big idea isn't all that bad.\"\n",
    "# text = \"fun, funnier, funniest\"\n",
    "text = \"Mike books a flight with his girlfriend. John reads a book\""
   ]
  },
  {
   "cell_type": "code",
   "execution_count": 19,
   "id": "59c8cc67",
   "metadata": {},
   "outputs": [],
   "source": [
    "tokens = word_tokenize(text)"
   ]
  },
  {
   "cell_type": "code",
   "execution_count": 20,
   "id": "dbaf9dc4",
   "metadata": {},
   "outputs": [],
   "source": [
    "tags = pos_tag(tokens)"
   ]
  },
  {
   "cell_type": "code",
   "execution_count": 21,
   "id": "81f02349",
   "metadata": {},
   "outputs": [
    {
     "name": "stdout",
     "output_type": "stream",
     "text": [
      "Token: Mike, Etiqueta: NNP\n",
      "Token: books, Etiqueta: NNS\n",
      "Token: a, Etiqueta: DT\n",
      "Token: flight, Etiqueta: NN\n",
      "Token: with, Etiqueta: IN\n",
      "Token: his, Etiqueta: PRP$\n",
      "Token: girlfriend, Etiqueta: NN\n",
      "Token: ., Etiqueta: .\n",
      "Token: John, Etiqueta: NNP\n",
      "Token: reads, Etiqueta: VBZ\n",
      "Token: a, Etiqueta: DT\n",
      "Token: book, Etiqueta: NN\n"
     ]
    }
   ],
   "source": [
    "for token, tag in tags:\n",
    "    print(f\"Token: {token}, Etiqueta: {tag}\")"
   ]
  },
  {
   "cell_type": "code",
   "execution_count": 22,
   "id": "38f14a82",
   "metadata": {},
   "outputs": [
    {
     "data": {
      "text/plain": [
       "['NNP', 'NNS', 'DT', 'NN', 'IN', 'PRP$', 'NN', '.', 'NNP', 'VBZ', 'DT', 'NN']"
      ]
     },
     "execution_count": 22,
     "metadata": {},
     "output_type": "execute_result"
    }
   ],
   "source": [
    "etiquetas = []\n",
    "\n",
    "for token, tag in tags:\n",
    "    etiquetas.append(tag)\n",
    "\n",
    "etiquetas"
   ]
  },
  {
   "cell_type": "code",
   "execution_count": 23,
   "id": "484bcc69",
   "metadata": {},
   "outputs": [
    {
     "data": {
      "text/plain": [
       "Counter({'NN': 3,\n",
       "         'NNP': 2,\n",
       "         'DT': 2,\n",
       "         'NNS': 1,\n",
       "         'IN': 1,\n",
       "         'PRP$': 1,\n",
       "         '.': 1,\n",
       "         'VBZ': 1})"
      ]
     },
     "execution_count": 23,
     "metadata": {},
     "output_type": "execute_result"
    }
   ],
   "source": [
    "from collections import Counter\n",
    "\n",
    "Counter(etiquetas)"
   ]
  },
  {
   "cell_type": "code",
   "execution_count": 24,
   "id": "3c2b1c2c",
   "metadata": {},
   "outputs": [
    {
     "data": {
      "text/plain": [
       "Counter({'NN': 3,\n",
       "         'NNP': 2,\n",
       "         'DT': 2,\n",
       "         'NNS': 1,\n",
       "         'IN': 1,\n",
       "         'PRP$': 1,\n",
       "         '.': 1,\n",
       "         'VBZ': 1})"
      ]
     },
     "execution_count": 24,
     "metadata": {},
     "output_type": "execute_result"
    }
   ],
   "source": [
    "Counter([tag for token, tag in tags])"
   ]
  },
  {
   "cell_type": "markdown",
   "id": "373382c8",
   "metadata": {},
   "source": [
    "TAREA:\n",
    "Hacer una función que realice lo siguiente:\n",
    "* Tome un texto y lo preprocese (sin quitar mayúsculas)\n",
    "* Etiquete las POS\n",
    "* Devuelva un string \"elegante\" que diga cuántas POS encontró, pero sin etiquetas, por ejemplo:<br>\n",
    "    \"En el texto ... se encontraron 3 verbos en pasado simple, 2 sustantivos...\""
   ]
  },
  {
   "cell_type": "markdown",
   "id": "2fb4ae45",
   "metadata": {},
   "source": [
    "---\n",
    "N.E.R"
   ]
  },
  {
   "cell_type": "code",
   "execution_count": 25,
   "id": "b98f3b23",
   "metadata": {},
   "outputs": [],
   "source": [
    "from nltk import ne_chunk"
   ]
  },
  {
   "cell_type": "code",
   "execution_count": 29,
   "id": "08de1656",
   "metadata": {},
   "outputs": [],
   "source": [
    "ner = ne_chunk(tags)"
   ]
  },
  {
   "cell_type": "code",
   "execution_count": 30,
   "id": "7ba29769",
   "metadata": {},
   "outputs": [
    {
     "data": {
      "text/plain": [
       "nltk.tree.tree.Tree"
      ]
     },
     "execution_count": 30,
     "metadata": {},
     "output_type": "execute_result"
    }
   ],
   "source": [
    "type(ner)"
   ]
  },
  {
   "cell_type": "code",
   "execution_count": 31,
   "id": "5825d062",
   "metadata": {},
   "outputs": [
    {
     "data": {
      "text/plain": [
       "['__add__',\n",
       " '__class__',\n",
       " '__class_getitem__',\n",
       " '__contains__',\n",
       " '__copy__',\n",
       " '__deepcopy__',\n",
       " '__delattr__',\n",
       " '__delitem__',\n",
       " '__dict__',\n",
       " '__dir__',\n",
       " '__doc__',\n",
       " '__eq__',\n",
       " '__firstlineno__',\n",
       " '__format__',\n",
       " '__ge__',\n",
       " '__getattribute__',\n",
       " '__getitem__',\n",
       " '__getstate__',\n",
       " '__gt__',\n",
       " '__hash__',\n",
       " '__iadd__',\n",
       " '__imul__',\n",
       " '__init__',\n",
       " '__init_subclass__',\n",
       " '__iter__',\n",
       " '__le__',\n",
       " '__len__',\n",
       " '__lt__',\n",
       " '__module__',\n",
       " '__mul__',\n",
       " '__ne__',\n",
       " '__new__',\n",
       " '__radd__',\n",
       " '__reduce__',\n",
       " '__reduce_ex__',\n",
       " '__repr__',\n",
       " '__reversed__',\n",
       " '__rmul__',\n",
       " '__setattr__',\n",
       " '__setitem__',\n",
       " '__sizeof__',\n",
       " '__static_attributes__',\n",
       " '__str__',\n",
       " '__subclasshook__',\n",
       " '__weakref__',\n",
       " '_frozen_class',\n",
       " '_get_node',\n",
       " '_label',\n",
       " '_parse_error',\n",
       " '_pformat_flat',\n",
       " '_repr_svg_',\n",
       " '_set_node',\n",
       " 'append',\n",
       " 'chomsky_normal_form',\n",
       " 'clear',\n",
       " 'collapse_unary',\n",
       " 'convert',\n",
       " 'copy',\n",
       " 'count',\n",
       " 'draw',\n",
       " 'extend',\n",
       " 'flatten',\n",
       " 'freeze',\n",
       " 'fromlist',\n",
       " 'fromstring',\n",
       " 'height',\n",
       " 'index',\n",
       " 'insert',\n",
       " 'label',\n",
       " 'leaf_treeposition',\n",
       " 'leaves',\n",
       " 'node',\n",
       " 'pformat',\n",
       " 'pformat_latex_qtree',\n",
       " 'pop',\n",
       " 'pos',\n",
       " 'pprint',\n",
       " 'pretty_print',\n",
       " 'productions',\n",
       " 'remove',\n",
       " 'reverse',\n",
       " 'set_label',\n",
       " 'sort',\n",
       " 'subtrees',\n",
       " 'treeposition_spanning_leaves',\n",
       " 'treepositions',\n",
       " 'un_chomsky_normal_form']"
      ]
     },
     "execution_count": 31,
     "metadata": {},
     "output_type": "execute_result"
    }
   ],
   "source": [
    "dir(ner)"
   ]
  },
  {
   "cell_type": "code",
   "execution_count": 32,
   "id": "31d38f99",
   "metadata": {},
   "outputs": [
    {
     "name": "stdout",
     "output_type": "stream",
     "text": [
      "(S\n",
      "  (GPE Mike/NNP)\n",
      "  books/NNS\n",
      "  a/DT\n",
      "  flight/NN\n",
      "  with/IN\n",
      "  his/PRP$\n",
      "  girlfriend/NN\n",
      "  ./.\n",
      "  (PERSON John/NNP)\n",
      "  reads/VBZ\n",
      "  a/DT\n",
      "  book/NN)\n"
     ]
    }
   ],
   "source": [
    "print(ner)"
   ]
  },
  {
   "cell_type": "code",
   "execution_count": 34,
   "id": "fccce60f",
   "metadata": {},
   "outputs": [],
   "source": [
    "ner.draw()"
   ]
  },
  {
   "cell_type": "code",
   "execution_count": 53,
   "id": "e6cc356c",
   "metadata": {},
   "outputs": [],
   "source": [
    "text2 = \"Mike and John bought a book in Italy last year for $20 euros.\"\n",
    "text2_tokens = word_tokenize(text2)\n",
    "text2_tags = pos_tag(text2_tokens)\n",
    "text2_ner = ne_chunk(text2_tags)"
   ]
  },
  {
   "cell_type": "code",
   "execution_count": 54,
   "id": "4a80ee88",
   "metadata": {},
   "outputs": [
    {
     "name": "stdout",
     "output_type": "stream",
     "text": [
      "(S\n",
      "  (PERSON Mike/NNP)\n",
      "  and/CC\n",
      "  (PERSON John/NNP)\n",
      "  bought/VBD\n",
      "  a/DT\n",
      "  book/NN\n",
      "  in/IN\n",
      "  (GPE Italy/NNP)\n",
      "  last/JJ\n",
      "  year/NN\n",
      "  for/IN\n",
      "  $/$\n",
      "  20/CD\n",
      "  euros/NN\n",
      "  ./.)\n"
     ]
    }
   ],
   "source": [
    "print(text2_ner)"
   ]
  },
  {
   "cell_type": "code",
   "execution_count": 55,
   "id": "62d155a1",
   "metadata": {},
   "outputs": [
    {
     "name": "stdout",
     "output_type": "stream",
     "text": [
      "(S\n",
      "  (PERSON Mike/NNP)\n",
      "  and/CC\n",
      "  (PERSON John/NNP)\n",
      "  bought/VBD\n",
      "  a/DT\n",
      "  book/NN\n",
      "  in/IN\n",
      "  (GPE Italy/NNP)\n",
      "  last/JJ\n",
      "  year/NN\n",
      "  for/IN\n",
      "  $/$\n",
      "  20/CD\n",
      "  euros/NN\n",
      "  ./.)\n"
     ]
    }
   ],
   "source": [
    "text2_ner.pprint()"
   ]
  },
  {
   "cell_type": "code",
   "execution_count": 56,
   "id": "f30f819f",
   "metadata": {},
   "outputs": [
    {
     "name": "stdout",
     "output_type": "stream",
     "text": [
      "                                                       S                                                      \n",
      "   ____________________________________________________|_________________________________________________      \n",
      "  |        |       |      |      |      |       |      |     |    |      |      |   PERSON   PERSON     GPE   \n",
      "  |        |       |      |      |      |       |      |     |    |      |      |     |        |         |     \n",
      "and/CC bought/VBD a/DT book/NN in/IN last/JJ year/NN for/IN $/$ 20/CD euros/NN ./. Mike/NNP John/NNP Italy/NNP\n",
      "\n"
     ]
    }
   ],
   "source": [
    "text2_ner.pretty_print()"
   ]
  },
  {
   "cell_type": "code",
   "execution_count": 57,
   "id": "1fee890f",
   "metadata": {},
   "outputs": [
    {
     "name": "stdout",
     "output_type": "stream",
     "text": [
      "Requirement already satisfied: svgling in /Users/miguelcamargorojas/Documents/envs/NLP25/lib/python3.13/site-packages (0.5.0)\n",
      "Requirement already satisfied: svgwrite in /Users/miguelcamargorojas/Documents/envs/NLP25/lib/python3.13/site-packages (from svgling) (1.4.3)\n",
      "Note: you may need to restart the kernel to use updated packages.\n"
     ]
    }
   ],
   "source": [
    "%pip install svgling"
   ]
  },
  {
   "cell_type": "code",
   "execution_count": null,
   "id": "236c1507",
   "metadata": {},
   "outputs": [
    {
     "data": {
      "image/svg+xml": [
       "<svg baseProfile=\"full\" height=\"168px\" preserveAspectRatio=\"xMidYMid meet\" style=\"font-family: times, serif; font-weight: normal; font-style: normal; font-size: 16px\" version=\"1.1\" viewBox=\"0,0,672.0,168.0\" width=\"672px\" xmlns=\"http://www.w3.org/2000/svg\" xmlns:ev=\"http://www.w3.org/2001/xml-events\" xmlns:xlink=\"http://www.w3.org/1999/xlink\"><defs /><svg width=\"100%\" x=\"0\" y=\"0px\"><defs /><text text-anchor=\"middle\" x=\"50%\" y=\"16px\">S</text></svg><svg width=\"9.52381%\" x=\"0%\" y=\"48px\"><defs /><svg width=\"100%\" x=\"0\" y=\"0px\"><defs /><text text-anchor=\"middle\" x=\"50%\" y=\"16px\">PERSON</text></svg><svg width=\"100%\" x=\"0%\" y=\"48px\"><defs /><svg width=\"100%\" x=\"0\" y=\"0px\"><defs /><text text-anchor=\"middle\" x=\"50%\" y=\"16px\">Mike</text></svg><svg width=\"100%\" x=\"0%\" y=\"48px\"><defs /><svg width=\"100%\" x=\"0\" y=\"0px\"><defs /><text text-anchor=\"middle\" x=\"50%\" y=\"16px\">NNP</text></svg></svg><line stroke=\"black\" x1=\"50%\" x2=\"50%\" y1=\"20px\" y2=\"48px\" /></svg><line stroke=\"black\" x1=\"50%\" x2=\"50%\" y1=\"20px\" y2=\"48px\" /></svg><line stroke=\"black\" x1=\"50%\" x2=\"4.7619%\" y1=\"20px\" y2=\"48px\" /><svg width=\"5.95238%\" x=\"9.52381%\" y=\"48px\"><defs /><svg width=\"100%\" x=\"0\" y=\"0px\"><defs /><text text-anchor=\"middle\" x=\"50%\" y=\"16px\">and</text></svg><svg width=\"100%\" x=\"0%\" y=\"48px\"><defs /><svg width=\"100%\" x=\"0\" y=\"0px\"><defs /><text text-anchor=\"middle\" x=\"50%\" y=\"16px\">CC</text></svg></svg><line stroke=\"black\" x1=\"50%\" x2=\"50%\" y1=\"20px\" y2=\"48px\" /></svg><line stroke=\"black\" x1=\"50%\" x2=\"12.5%\" y1=\"20px\" y2=\"48px\" /><svg width=\"9.52381%\" x=\"15.4762%\" y=\"48px\"><defs /><svg width=\"100%\" x=\"0\" y=\"0px\"><defs /><text text-anchor=\"middle\" x=\"50%\" y=\"16px\">PERSON</text></svg><svg width=\"100%\" x=\"0%\" y=\"48px\"><defs /><svg width=\"100%\" x=\"0\" y=\"0px\"><defs /><text text-anchor=\"middle\" x=\"50%\" y=\"16px\">John</text></svg><svg width=\"100%\" x=\"0%\" y=\"48px\"><defs /><svg width=\"100%\" x=\"0\" y=\"0px\"><defs /><text text-anchor=\"middle\" x=\"50%\" y=\"16px\">NNP</text></svg></svg><line stroke=\"black\" x1=\"50%\" x2=\"50%\" y1=\"20px\" y2=\"48px\" /></svg><line stroke=\"black\" x1=\"50%\" x2=\"50%\" y1=\"20px\" y2=\"48px\" /></svg><line stroke=\"black\" x1=\"50%\" x2=\"20.2381%\" y1=\"20px\" y2=\"48px\" /><svg width=\"9.52381%\" x=\"25%\" y=\"48px\"><defs /><svg width=\"100%\" x=\"0\" y=\"0px\"><defs /><text text-anchor=\"middle\" x=\"50%\" y=\"16px\">bought</text></svg><svg width=\"100%\" x=\"0%\" y=\"48px\"><defs /><svg width=\"100%\" x=\"0\" y=\"0px\"><defs /><text text-anchor=\"middle\" x=\"50%\" y=\"16px\">VBD</text></svg></svg><line stroke=\"black\" x1=\"50%\" x2=\"50%\" y1=\"20px\" y2=\"48px\" /></svg><line stroke=\"black\" x1=\"50%\" x2=\"29.7619%\" y1=\"20px\" y2=\"48px\" /><svg width=\"4.7619%\" x=\"34.5238%\" y=\"48px\"><defs /><svg width=\"100%\" x=\"0\" y=\"0px\"><defs /><text text-anchor=\"middle\" x=\"50%\" y=\"16px\">a</text></svg><svg width=\"100%\" x=\"0%\" y=\"48px\"><defs /><svg width=\"100%\" x=\"0\" y=\"0px\"><defs /><text text-anchor=\"middle\" x=\"50%\" y=\"16px\">DT</text></svg></svg><line stroke=\"black\" x1=\"50%\" x2=\"50%\" y1=\"20px\" y2=\"48px\" /></svg><line stroke=\"black\" x1=\"50%\" x2=\"36.9048%\" y1=\"20px\" y2=\"48px\" /><svg width=\"7.14286%\" x=\"39.2857%\" y=\"48px\"><defs /><svg width=\"100%\" x=\"0\" y=\"0px\"><defs /><text text-anchor=\"middle\" x=\"50%\" y=\"16px\">book</text></svg><svg width=\"100%\" x=\"0%\" y=\"48px\"><defs /><svg width=\"100%\" x=\"0\" y=\"0px\"><defs /><text text-anchor=\"middle\" x=\"50%\" y=\"16px\">NN</text></svg></svg><line stroke=\"black\" x1=\"50%\" x2=\"50%\" y1=\"20px\" y2=\"48px\" /></svg><line stroke=\"black\" x1=\"50%\" x2=\"42.8571%\" y1=\"20px\" y2=\"48px\" /><svg width=\"4.7619%\" x=\"46.4286%\" y=\"48px\"><defs /><svg width=\"100%\" x=\"0\" y=\"0px\"><defs /><text text-anchor=\"middle\" x=\"50%\" y=\"16px\">in</text></svg><svg width=\"100%\" x=\"0%\" y=\"48px\"><defs /><svg width=\"100%\" x=\"0\" y=\"0px\"><defs /><text text-anchor=\"middle\" x=\"50%\" y=\"16px\">IN</text></svg></svg><line stroke=\"black\" x1=\"50%\" x2=\"50%\" y1=\"20px\" y2=\"48px\" /></svg><line stroke=\"black\" x1=\"50%\" x2=\"48.8095%\" y1=\"20px\" y2=\"48px\" /><svg width=\"8.33333%\" x=\"51.1905%\" y=\"48px\"><defs /><svg width=\"100%\" x=\"0\" y=\"0px\"><defs /><text text-anchor=\"middle\" x=\"50%\" y=\"16px\">GPE</text></svg><svg width=\"100%\" x=\"0%\" y=\"48px\"><defs /><svg width=\"100%\" x=\"0\" y=\"0px\"><defs /><text text-anchor=\"middle\" x=\"50%\" y=\"16px\">Italy</text></svg><svg width=\"100%\" x=\"0%\" y=\"48px\"><defs /><svg width=\"100%\" x=\"0\" y=\"0px\"><defs /><text text-anchor=\"middle\" x=\"50%\" y=\"16px\">NNP</text></svg></svg><line stroke=\"black\" x1=\"50%\" x2=\"50%\" y1=\"20px\" y2=\"48px\" /></svg><line stroke=\"black\" x1=\"50%\" x2=\"50%\" y1=\"20px\" y2=\"48px\" /></svg><line stroke=\"black\" x1=\"50%\" x2=\"55.3571%\" y1=\"20px\" y2=\"48px\" /><svg width=\"7.14286%\" x=\"59.5238%\" y=\"48px\"><defs /><svg width=\"100%\" x=\"0\" y=\"0px\"><defs /><text text-anchor=\"middle\" x=\"50%\" y=\"16px\">last</text></svg><svg width=\"100%\" x=\"0%\" y=\"48px\"><defs /><svg width=\"100%\" x=\"0\" y=\"0px\"><defs /><text text-anchor=\"middle\" x=\"50%\" y=\"16px\">JJ</text></svg></svg><line stroke=\"black\" x1=\"50%\" x2=\"50%\" y1=\"20px\" y2=\"48px\" /></svg><line stroke=\"black\" x1=\"50%\" x2=\"63.0952%\" y1=\"20px\" y2=\"48px\" /><svg width=\"7.14286%\" x=\"66.6667%\" y=\"48px\"><defs /><svg width=\"100%\" x=\"0\" y=\"0px\"><defs /><text text-anchor=\"middle\" x=\"50%\" y=\"16px\">year</text></svg><svg width=\"100%\" x=\"0%\" y=\"48px\"><defs /><svg width=\"100%\" x=\"0\" y=\"0px\"><defs /><text text-anchor=\"middle\" x=\"50%\" y=\"16px\">NN</text></svg></svg><line stroke=\"black\" x1=\"50%\" x2=\"50%\" y1=\"20px\" y2=\"48px\" /></svg><line stroke=\"black\" x1=\"50%\" x2=\"70.2381%\" y1=\"20px\" y2=\"48px\" /><svg width=\"5.95238%\" x=\"73.8095%\" y=\"48px\"><defs /><svg width=\"100%\" x=\"0\" y=\"0px\"><defs /><text text-anchor=\"middle\" x=\"50%\" y=\"16px\">for</text></svg><svg width=\"100%\" x=\"0%\" y=\"48px\"><defs /><svg width=\"100%\" x=\"0\" y=\"0px\"><defs /><text text-anchor=\"middle\" x=\"50%\" y=\"16px\">IN</text></svg></svg><line stroke=\"black\" x1=\"50%\" x2=\"50%\" y1=\"20px\" y2=\"48px\" /></svg><line stroke=\"black\" x1=\"50%\" x2=\"76.7857%\" y1=\"20px\" y2=\"48px\" /><svg width=\"3.57143%\" x=\"79.7619%\" y=\"48px\"><defs /><svg width=\"100%\" x=\"0\" y=\"0px\"><defs /><text text-anchor=\"middle\" x=\"50%\" y=\"16px\">$</text></svg><svg width=\"100%\" x=\"0%\" y=\"48px\"><defs /><svg width=\"100%\" x=\"0\" y=\"0px\"><defs /><text text-anchor=\"middle\" x=\"50%\" y=\"16px\">$</text></svg></svg><line stroke=\"black\" x1=\"50%\" x2=\"50%\" y1=\"20px\" y2=\"48px\" /></svg><line stroke=\"black\" x1=\"50%\" x2=\"81.5476%\" y1=\"20px\" y2=\"48px\" /><svg width=\"4.7619%\" x=\"83.3333%\" y=\"48px\"><defs /><svg width=\"100%\" x=\"0\" y=\"0px\"><defs /><text text-anchor=\"middle\" x=\"50%\" y=\"16px\">20</text></svg><svg width=\"100%\" x=\"0%\" y=\"48px\"><defs /><svg width=\"100%\" x=\"0\" y=\"0px\"><defs /><text text-anchor=\"middle\" x=\"50%\" y=\"16px\">CD</text></svg></svg><line stroke=\"black\" x1=\"50%\" x2=\"50%\" y1=\"20px\" y2=\"48px\" /></svg><line stroke=\"black\" x1=\"50%\" x2=\"85.7143%\" y1=\"20px\" y2=\"48px\" /><svg width=\"8.33333%\" x=\"88.0952%\" y=\"48px\"><defs /><svg width=\"100%\" x=\"0\" y=\"0px\"><defs /><text text-anchor=\"middle\" x=\"50%\" y=\"16px\">euros</text></svg><svg width=\"100%\" x=\"0%\" y=\"48px\"><defs /><svg width=\"100%\" x=\"0\" y=\"0px\"><defs /><text text-anchor=\"middle\" x=\"50%\" y=\"16px\">NN</text></svg></svg><line stroke=\"black\" x1=\"50%\" x2=\"50%\" y1=\"20px\" y2=\"48px\" /></svg><line stroke=\"black\" x1=\"50%\" x2=\"92.2619%\" y1=\"20px\" y2=\"48px\" /><svg width=\"3.57143%\" x=\"96.4286%\" y=\"48px\"><defs /><svg width=\"100%\" x=\"0\" y=\"0px\"><defs /><text text-anchor=\"middle\" x=\"50%\" y=\"16px\">.</text></svg><svg width=\"100%\" x=\"0%\" y=\"48px\"><defs /><svg width=\"100%\" x=\"0\" y=\"0px\"><defs /><text text-anchor=\"middle\" x=\"50%\" y=\"16px\">.</text></svg></svg><line stroke=\"black\" x1=\"50%\" x2=\"50%\" y1=\"20px\" y2=\"48px\" /></svg><line stroke=\"black\" x1=\"50%\" x2=\"98.2143%\" y1=\"20px\" y2=\"48px\" /></svg>"
      ],
      "text/plain": [
       "Tree('S', [Tree('PERSON', [('Mike', 'NNP')]), ('and', 'CC'), Tree('PERSON', [('John', 'NNP')]), ('bought', 'VBD'), ('a', 'DT'), ('book', 'NN'), ('in', 'IN'), Tree('GPE', [('Italy', 'NNP')]), ('last', 'JJ'), ('year', 'NN'), ('for', 'IN'), ('$', '$'), ('20', 'CD'), ('euros', 'NN'), ('.', '.')])"
      ]
     },
     "execution_count": 58,
     "metadata": {},
     "output_type": "execute_result"
    },
    {
     "ename": "",
     "evalue": "",
     "output_type": "error",
     "traceback": [
      "\u001b[1;31mThe Kernel crashed while executing code in the current cell or a previous cell. \n",
      "\u001b[1;31mPlease review the code in the cell(s) to identify a possible cause of the failure. \n",
      "\u001b[1;31mClick <a href='https://aka.ms/vscodeJupyterKernelCrash'>here</a> for more info. \n",
      "\u001b[1;31mView Jupyter <a href='command:jupyter.viewOutput'>log</a> for further details."
     ]
    }
   ],
   "source": [
    "text2_ner"
   ]
  }
 ],
 "metadata": {
  "kernelspec": {
   "display_name": "NLP25",
   "language": "python",
   "name": "python3"
  },
  "language_info": {
   "codemirror_mode": {
    "name": "ipython",
    "version": 3
   },
   "file_extension": ".py",
   "mimetype": "text/x-python",
   "name": "python",
   "nbconvert_exporter": "python",
   "pygments_lexer": "ipython3",
   "version": "3.13.7"
  }
 },
 "nbformat": 4,
 "nbformat_minor": 5
}
