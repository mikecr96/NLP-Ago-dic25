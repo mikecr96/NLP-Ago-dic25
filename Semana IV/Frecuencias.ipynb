{
 "cells": [
  {
   "cell_type": "code",
   "execution_count": 1,
   "id": "cee0384c",
   "metadata": {},
   "outputs": [],
   "source": [
    "import re\n",
    "import nltk"
   ]
  },
  {
   "cell_type": "code",
   "execution_count": 2,
   "id": "edeb6884",
   "metadata": {},
   "outputs": [],
   "source": [
    "texto_largo = \"\"\"La televisora es la primera estación de televisión educativa y cultural de México sin fines comerciales. \n",
    "La fundación del canal tuvo como promotores a Alejo Peralta y Díaz Ceballos y Eugenio Méndez Docurro. \n",
    "Ambos contaron con el apoyo del Secretario de Educación Pública, Jaime Torres Bodet, y del Secretario de Comunicaciones, Walter Cross Buchanan.\n",
    "Canal 11 con el distintivo XEIPN-TV inició transmisiones el 2 de marzo de 1959 en las instalaciones del campus Santo Tomás del Instituto Politécnico Nacional por medio de un transmisor de 5 kW. \n",
    "La señal era tan limitada que apenas se captaba en las cercanías de la emisora.\"\"\"\n",
    "texto_largo_minus = texto_largo.lower()"
   ]
  },
  {
   "cell_type": "code",
   "execution_count": 3,
   "id": "759807c8",
   "metadata": {},
   "outputs": [
    {
     "data": {
      "text/plain": [
       "['la',\n",
       " 'televisora',\n",
       " 'es',\n",
       " 'la',\n",
       " 'primera',\n",
       " 'estación',\n",
       " 'de',\n",
       " 'televisión',\n",
       " 'educativa',\n",
       " 'y',\n",
       " 'cultural',\n",
       " 'de',\n",
       " 'méxico',\n",
       " 'sin',\n",
       " 'fines',\n",
       " 'comerciales',\n",
       " '.',\n",
       " 'la',\n",
       " 'fundación',\n",
       " 'del',\n",
       " 'canal',\n",
       " 'tuvo',\n",
       " 'como',\n",
       " 'promotores',\n",
       " 'a',\n",
       " 'alejo',\n",
       " 'peralta',\n",
       " 'y',\n",
       " 'díaz',\n",
       " 'ceballos',\n",
       " 'y',\n",
       " 'eugenio',\n",
       " 'méndez',\n",
       " 'docurro',\n",
       " '.',\n",
       " 'ambos',\n",
       " 'contaron',\n",
       " 'con',\n",
       " 'el',\n",
       " 'apoyo',\n",
       " 'del',\n",
       " 'secretario',\n",
       " 'de',\n",
       " 'educación',\n",
       " 'pública',\n",
       " ',',\n",
       " 'jaime',\n",
       " 'torres',\n",
       " 'bodet',\n",
       " ',',\n",
       " 'y',\n",
       " 'del',\n",
       " 'secretario',\n",
       " 'de',\n",
       " 'comunicaciones',\n",
       " ',',\n",
       " 'walter',\n",
       " 'cross',\n",
       " 'buchanan',\n",
       " '.',\n",
       " 'canal',\n",
       " '11',\n",
       " 'con',\n",
       " 'el',\n",
       " 'distintivo',\n",
       " 'xeipn-tv',\n",
       " 'inició',\n",
       " 'transmisiones',\n",
       " 'el',\n",
       " '2',\n",
       " 'de',\n",
       " 'marzo',\n",
       " 'de',\n",
       " '1959',\n",
       " 'en',\n",
       " 'las',\n",
       " 'instalaciones',\n",
       " 'del',\n",
       " 'campus',\n",
       " 'santo',\n",
       " 'tomás',\n",
       " 'del',\n",
       " 'instituto',\n",
       " 'politécnico',\n",
       " 'nacional',\n",
       " 'por',\n",
       " 'medio',\n",
       " 'de',\n",
       " 'un',\n",
       " 'transmisor',\n",
       " 'de',\n",
       " '5',\n",
       " 'kw',\n",
       " '.',\n",
       " 'la',\n",
       " 'señal',\n",
       " 'era',\n",
       " 'tan',\n",
       " 'limitada',\n",
       " 'que',\n",
       " 'apenas',\n",
       " 'se',\n",
       " 'captaba',\n",
       " 'en',\n",
       " 'las',\n",
       " 'cercanías',\n",
       " 'de',\n",
       " 'la',\n",
       " 'emisora',\n",
       " '.']"
      ]
     },
     "execution_count": 3,
     "metadata": {},
     "output_type": "execute_result"
    }
   ],
   "source": [
    "nltk.word_tokenize(texto_largo_minus)"
   ]
  },
  {
   "cell_type": "code",
   "execution_count": 4,
   "id": "8a8896d0",
   "metadata": {},
   "outputs": [
    {
     "data": {
      "text/plain": [
       "[' ',\n",
       " ' ',\n",
       " ' ',\n",
       " ' ',\n",
       " ' ',\n",
       " ' ',\n",
       " ' ',\n",
       " ' ',\n",
       " ' ',\n",
       " ' ',\n",
       " ' ',\n",
       " ' ',\n",
       " ' ',\n",
       " ' ',\n",
       " ' ',\n",
       " '.',\n",
       " ' ',\n",
       " '\\n',\n",
       " ' ',\n",
       " ' ',\n",
       " ' ',\n",
       " ' ',\n",
       " ' ',\n",
       " ' ',\n",
       " ' ',\n",
       " ' ',\n",
       " ' ',\n",
       " ' ',\n",
       " ' ',\n",
       " ' ',\n",
       " ' ',\n",
       " ' ',\n",
       " ' ',\n",
       " ' ',\n",
       " '.',\n",
       " ' ',\n",
       " '\\n',\n",
       " ' ',\n",
       " ' ',\n",
       " ' ',\n",
       " ' ',\n",
       " ' ',\n",
       " ' ',\n",
       " ' ',\n",
       " ' ',\n",
       " ' ',\n",
       " ',',\n",
       " ' ',\n",
       " ' ',\n",
       " ' ',\n",
       " ',',\n",
       " ' ',\n",
       " ' ',\n",
       " ' ',\n",
       " ' ',\n",
       " ' ',\n",
       " ',',\n",
       " ' ',\n",
       " ' ',\n",
       " ' ',\n",
       " '.',\n",
       " '\\n',\n",
       " ' ',\n",
       " ' ',\n",
       " ' ',\n",
       " ' ',\n",
       " ' ',\n",
       " '-',\n",
       " ' ',\n",
       " ' ',\n",
       " ' ',\n",
       " ' ',\n",
       " ' ',\n",
       " ' ',\n",
       " ' ',\n",
       " ' ',\n",
       " ' ',\n",
       " ' ',\n",
       " ' ',\n",
       " ' ',\n",
       " ' ',\n",
       " ' ',\n",
       " ' ',\n",
       " ' ',\n",
       " ' ',\n",
       " ' ',\n",
       " ' ',\n",
       " ' ',\n",
       " ' ',\n",
       " ' ',\n",
       " ' ',\n",
       " ' ',\n",
       " ' ',\n",
       " ' ',\n",
       " ' ',\n",
       " '.',\n",
       " ' ',\n",
       " '\\n',\n",
       " ' ',\n",
       " ' ',\n",
       " ' ',\n",
       " ' ',\n",
       " ' ',\n",
       " ' ',\n",
       " ' ',\n",
       " ' ',\n",
       " ' ',\n",
       " ' ',\n",
       " ' ',\n",
       " ' ',\n",
       " ' ',\n",
       " ' ',\n",
       " '.']"
      ]
     },
     "execution_count": 4,
     "metadata": {},
     "output_type": "execute_result"
    }
   ],
   "source": [
    "re.findall(r\"\\W\", texto_largo_minus)"
   ]
  },
  {
   "cell_type": "code",
   "execution_count": 5,
   "id": "fb2d1183",
   "metadata": {},
   "outputs": [
    {
     "data": {
      "text/plain": [
       "'la televisora es la primera estación de televisión educativa y cultural de méxico sin fines comerciales la fundación del canal tuvo como promotores a alejo peralta y díaz ceballos y eugenio méndez docurro ambos contaron con el apoyo del secretario de educación pública jaime torres bodet y del secretario de comunicaciones walter cross buchanan canal 11 con el distintivo xeipn tv inició transmisiones el 2 de marzo de 1959 en las instalaciones del campus santo tomás del instituto politécnico nacional por medio de un transmisor de 5 kw la señal era tan limitada que apenas se captaba en las cercanías de la emisora '"
      ]
     },
     "execution_count": 5,
     "metadata": {},
     "output_type": "execute_result"
    }
   ],
   "source": [
    "re.sub(r\"\\W+\", \" \", texto_largo_minus)"
   ]
  },
  {
   "cell_type": "code",
   "execution_count": 6,
   "id": "f001ad59",
   "metadata": {},
   "outputs": [
    {
     "data": {
      "text/plain": [
       "\"do not - don't\""
      ]
     },
     "execution_count": 6,
     "metadata": {},
     "output_type": "execute_result"
    }
   ],
   "source": [
    "\"do not - don't\" # apóstrofo"
   ]
  },
  {
   "cell_type": "code",
   "execution_count": 7,
   "id": "78b33477",
   "metadata": {},
   "outputs": [],
   "source": [
    "\"\"\"\n",
    "Pipeline para NLP\n",
    "1) Normalizar (minúsculas)\n",
    "2) Eliminar caracteres especiales\n",
    "3) Tokenizarlo\n",
    "4) Eliminar palabras vacías\n",
    "\"\"\"\n",
    "\n",
    "def limpiar_texto(texto, idioma=\"spanish\", as_text=False):\n",
    "    stopwords = nltk.corpus.stopwords.words(idioma)    \n",
    "    texto = texto.lower() # Convierte todo a minus\n",
    "    texto = re.sub(r\"\\W+\", \" \", texto_largo_minus)\n",
    "    tokens = nltk.word_tokenize(texto, idioma)\n",
    "    print(f\"Antes de limpiar el texto había {len(tokens)} tokens\")\n",
    "    filteredTokens = [w for w in tokens if w not in stopwords]\n",
    "    print(f\"Después de limpiar el texto hay {len(filteredTokens)} tokens\")\n",
    "    if as_text: \n",
    "        return \" \".join(filteredTokens)\n",
    "    else:\n",
    "        return filteredTokens"
   ]
  },
  {
   "cell_type": "code",
   "execution_count": 8,
   "id": "959bca37",
   "metadata": {},
   "outputs": [
    {
     "name": "stdout",
     "output_type": "stream",
     "text": [
      "Antes de limpiar el texto había 103 tokens\n",
      "Después de limpiar el texto hay 61 tokens\n"
     ]
    }
   ],
   "source": [
    "texto_limpio = limpiar_texto(texto_largo)"
   ]
  },
  {
   "cell_type": "code",
   "execution_count": 9,
   "id": "86d4be6d",
   "metadata": {},
   "outputs": [],
   "source": [
    "vocabulario = list(set(texto_limpio))"
   ]
  },
  {
   "cell_type": "code",
   "execution_count": 10,
   "id": "9045da2e",
   "metadata": {},
   "outputs": [
    {
     "data": {
      "text/plain": [
       "59"
      ]
     },
     "execution_count": 10,
     "metadata": {},
     "output_type": "execute_result"
    }
   ],
   "source": [
    "len(vocabulario)"
   ]
  },
  {
   "cell_type": "code",
   "execution_count": 11,
   "id": "9230e30b",
   "metadata": {},
   "outputs": [
    {
     "data": {
      "text/plain": [
       "['educativa',\n",
       " 'televisión',\n",
       " '11',\n",
       " 'fines',\n",
       " 'estación',\n",
       " 'méxico',\n",
       " 'inició',\n",
       " '2',\n",
       " 'nacional',\n",
       " 'comunicaciones']"
      ]
     },
     "execution_count": 11,
     "metadata": {},
     "output_type": "execute_result"
    }
   ],
   "source": [
    "vocabulario[:10]"
   ]
  },
  {
   "cell_type": "markdown",
   "id": "818b197f",
   "metadata": {},
   "source": [
    "1)"
   ]
  },
  {
   "cell_type": "code",
   "execution_count": 12,
   "id": "8aabb8da",
   "metadata": {},
   "outputs": [
    {
     "data": {
      "text/plain": [
       "{'televisora': 1,\n",
       " 'primera': 1,\n",
       " 'estación': 1,\n",
       " 'televisión': 1,\n",
       " 'educativa': 1,\n",
       " 'cultural': 1,\n",
       " 'méxico': 1,\n",
       " 'fines': 1,\n",
       " 'comerciales': 1,\n",
       " 'fundación': 1,\n",
       " 'canal': 2,\n",
       " 'promotores': 1,\n",
       " 'alejo': 1,\n",
       " 'peralta': 1,\n",
       " 'díaz': 1,\n",
       " 'ceballos': 1,\n",
       " 'eugenio': 1,\n",
       " 'méndez': 1,\n",
       " 'docurro': 1,\n",
       " 'ambos': 1,\n",
       " 'contaron': 1,\n",
       " 'apoyo': 1,\n",
       " 'secretario': 2,\n",
       " 'educación': 1,\n",
       " 'pública': 1,\n",
       " 'jaime': 1,\n",
       " 'torres': 1,\n",
       " 'bodet': 1,\n",
       " 'comunicaciones': 1,\n",
       " 'walter': 1,\n",
       " 'cross': 1,\n",
       " 'buchanan': 1,\n",
       " '11': 1,\n",
       " 'distintivo': 1,\n",
       " 'xeipn': 1,\n",
       " 'tv': 1,\n",
       " 'inició': 1,\n",
       " 'transmisiones': 1,\n",
       " '2': 1,\n",
       " 'marzo': 1,\n",
       " '1959': 1,\n",
       " 'instalaciones': 1,\n",
       " 'campus': 1,\n",
       " 'santo': 1,\n",
       " 'tomás': 1,\n",
       " 'instituto': 1,\n",
       " 'politécnico': 1,\n",
       " 'nacional': 1,\n",
       " 'medio': 1,\n",
       " 'transmisor': 1,\n",
       " '5': 1,\n",
       " 'kw': 1,\n",
       " 'señal': 1,\n",
       " 'tan': 1,\n",
       " 'limitada': 1,\n",
       " 'apenas': 1,\n",
       " 'captaba': 1,\n",
       " 'cercanías': 1,\n",
       " 'emisora': 1}"
      ]
     },
     "execution_count": 12,
     "metadata": {},
     "output_type": "execute_result"
    }
   ],
   "source": [
    "counts = {}\n",
    "for item in texto_limpio:\n",
    "    if item in counts:\n",
    "        counts[item] += 1\n",
    "    else:\n",
    "        counts[item] = 1\n",
    "\n",
    "counts"
   ]
  },
  {
   "cell_type": "markdown",
   "id": "0b72061f",
   "metadata": {},
   "source": [
    "2)"
   ]
  },
  {
   "cell_type": "code",
   "execution_count": 13,
   "id": "afeb78ec",
   "metadata": {},
   "outputs": [],
   "source": [
    "from collections import Counter"
   ]
  },
  {
   "cell_type": "code",
   "execution_count": 14,
   "id": "aecc0e24",
   "metadata": {},
   "outputs": [],
   "source": [
    "contador = Counter(\"parangaricutirimicuaro\")"
   ]
  },
  {
   "cell_type": "code",
   "execution_count": 15,
   "id": "17ddd081",
   "metadata": {},
   "outputs": [
    {
     "data": {
      "text/plain": [
       "collections.Counter"
      ]
     },
     "execution_count": 15,
     "metadata": {},
     "output_type": "execute_result"
    }
   ],
   "source": [
    "type(contador)"
   ]
  },
  {
   "cell_type": "code",
   "execution_count": 16,
   "id": "11c762ac",
   "metadata": {},
   "outputs": [
    {
     "data": {
      "text/plain": [
       "[('a', 4), ('r', 4), ('i', 4), ('c', 2)]"
      ]
     },
     "execution_count": 16,
     "metadata": {},
     "output_type": "execute_result"
    }
   ],
   "source": [
    "contador.most_common(4)"
   ]
  },
  {
   "cell_type": "code",
   "execution_count": 17,
   "id": "15f3f18f",
   "metadata": {},
   "outputs": [],
   "source": [
    "frecuencias = Counter(texto_limpio)"
   ]
  },
  {
   "cell_type": "code",
   "execution_count": 18,
   "id": "cb8a6471",
   "metadata": {},
   "outputs": [
    {
     "data": {
      "text/plain": [
       "dict_keys(['televisora', 'primera', 'estación', 'televisión', 'educativa', 'cultural', 'méxico', 'fines', 'comerciales', 'fundación', 'canal', 'promotores', 'alejo', 'peralta', 'díaz', 'ceballos', 'eugenio', 'méndez', 'docurro', 'ambos', 'contaron', 'apoyo', 'secretario', 'educación', 'pública', 'jaime', 'torres', 'bodet', 'comunicaciones', 'walter', 'cross', 'buchanan', '11', 'distintivo', 'xeipn', 'tv', 'inició', 'transmisiones', '2', 'marzo', '1959', 'instalaciones', 'campus', 'santo', 'tomás', 'instituto', 'politécnico', 'nacional', 'medio', 'transmisor', '5', 'kw', 'señal', 'tan', 'limitada', 'apenas', 'captaba', 'cercanías', 'emisora'])"
      ]
     },
     "execution_count": 18,
     "metadata": {},
     "output_type": "execute_result"
    }
   ],
   "source": [
    "frecuencias.keys()"
   ]
  },
  {
   "cell_type": "code",
   "execution_count": 19,
   "id": "dd0f0a99",
   "metadata": {},
   "outputs": [
    {
     "data": {
      "text/plain": [
       "dict_items([('televisora', 1), ('primera', 1), ('estación', 1), ('televisión', 1), ('educativa', 1), ('cultural', 1), ('méxico', 1), ('fines', 1), ('comerciales', 1), ('fundación', 1), ('canal', 2), ('promotores', 1), ('alejo', 1), ('peralta', 1), ('díaz', 1), ('ceballos', 1), ('eugenio', 1), ('méndez', 1), ('docurro', 1), ('ambos', 1), ('contaron', 1), ('apoyo', 1), ('secretario', 2), ('educación', 1), ('pública', 1), ('jaime', 1), ('torres', 1), ('bodet', 1), ('comunicaciones', 1), ('walter', 1), ('cross', 1), ('buchanan', 1), ('11', 1), ('distintivo', 1), ('xeipn', 1), ('tv', 1), ('inició', 1), ('transmisiones', 1), ('2', 1), ('marzo', 1), ('1959', 1), ('instalaciones', 1), ('campus', 1), ('santo', 1), ('tomás', 1), ('instituto', 1), ('politécnico', 1), ('nacional', 1), ('medio', 1), ('transmisor', 1), ('5', 1), ('kw', 1), ('señal', 1), ('tan', 1), ('limitada', 1), ('apenas', 1), ('captaba', 1), ('cercanías', 1), ('emisora', 1)])"
      ]
     },
     "execution_count": 19,
     "metadata": {},
     "output_type": "execute_result"
    }
   ],
   "source": [
    "frecuencias.items()"
   ]
  },
  {
   "cell_type": "markdown",
   "id": "673c7e6b",
   "metadata": {},
   "source": [
    "3."
   ]
  },
  {
   "cell_type": "code",
   "execution_count": 20,
   "id": "a31c69b9",
   "metadata": {},
   "outputs": [
    {
     "data": {
      "text/plain": [
       "FreqDist({'a': 5, 'r': 4, 'i': 4, 'u': 3, 'o': 3, 'n': 2, 'c': 2, 'm': 2, ' ': 2, 'p': 1, ...})"
      ]
     },
     "execution_count": 20,
     "metadata": {},
     "output_type": "execute_result"
    }
   ],
   "source": [
    "nltk.FreqDist(\"parangaricutirimicuaro hola mundo\")"
   ]
  },
  {
   "cell_type": "code",
   "execution_count": 21,
   "id": "09165394",
   "metadata": {},
   "outputs": [],
   "source": [
    "frecuencias = nltk.FreqDist(texto_limpio)"
   ]
  },
  {
   "cell_type": "code",
   "execution_count": 22,
   "id": "ca85b953",
   "metadata": {},
   "outputs": [
    {
     "data": {
      "text/plain": [
       "FreqDist({'canal': 2, 'secretario': 2, 'televisora': 1, 'primera': 1, 'estación': 1, 'televisión': 1, 'educativa': 1, 'cultural': 1, 'méxico': 1, 'fines': 1, ...})"
      ]
     },
     "execution_count": 22,
     "metadata": {},
     "output_type": "execute_result"
    }
   ],
   "source": [
    "frecuencias"
   ]
  },
  {
   "cell_type": "code",
   "execution_count": 23,
   "id": "ad142a8d",
   "metadata": {},
   "outputs": [
    {
     "data": {
      "text/plain": [
       "nltk.probability.FreqDist"
      ]
     },
     "execution_count": 23,
     "metadata": {},
     "output_type": "execute_result"
    }
   ],
   "source": [
    "type(frecuencias)"
   ]
  },
  {
   "cell_type": "code",
   "execution_count": 24,
   "id": "43479cc4",
   "metadata": {},
   "outputs": [
    {
     "data": {
      "text/plain": [
       "['B',\n",
       " 'N',\n",
       " 'Nr',\n",
       " '_N',\n",
       " '__add__',\n",
       " '__and__',\n",
       " '__class__',\n",
       " '__class_getitem__',\n",
       " '__contains__',\n",
       " '__delattr__',\n",
       " '__delitem__',\n",
       " '__dict__',\n",
       " '__dir__',\n",
       " '__doc__',\n",
       " '__eq__',\n",
       " '__firstlineno__',\n",
       " '__format__',\n",
       " '__ge__',\n",
       " '__getattribute__',\n",
       " '__getitem__',\n",
       " '__getstate__',\n",
       " '__gt__',\n",
       " '__hash__',\n",
       " '__iadd__',\n",
       " '__iand__',\n",
       " '__init__',\n",
       " '__init_subclass__',\n",
       " '__ior__',\n",
       " '__isub__',\n",
       " '__iter__',\n",
       " '__le__',\n",
       " '__len__',\n",
       " '__lt__',\n",
       " '__missing__',\n",
       " '__module__',\n",
       " '__ne__',\n",
       " '__neg__',\n",
       " '__new__',\n",
       " '__or__',\n",
       " '__pos__',\n",
       " '__reduce__',\n",
       " '__reduce_ex__',\n",
       " '__repr__',\n",
       " '__reversed__',\n",
       " '__ror__',\n",
       " '__setattr__',\n",
       " '__setitem__',\n",
       " '__sizeof__',\n",
       " '__static_attributes__',\n",
       " '__str__',\n",
       " '__sub__',\n",
       " '__subclasshook__',\n",
       " '__weakref__',\n",
       " '_cumulative_frequencies',\n",
       " '_keep_positive',\n",
       " 'clear',\n",
       " 'copy',\n",
       " 'elements',\n",
       " 'freq',\n",
       " 'fromkeys',\n",
       " 'get',\n",
       " 'hapaxes',\n",
       " 'items',\n",
       " 'keys',\n",
       " 'max',\n",
       " 'most_common',\n",
       " 'pformat',\n",
       " 'plot',\n",
       " 'pop',\n",
       " 'popitem',\n",
       " 'pprint',\n",
       " 'r_Nr',\n",
       " 'setdefault',\n",
       " 'subtract',\n",
       " 'tabulate',\n",
       " 'total',\n",
       " 'update',\n",
       " 'values']"
      ]
     },
     "execution_count": 24,
     "metadata": {},
     "output_type": "execute_result"
    }
   ],
   "source": [
    "dir(frecuencias)"
   ]
  },
  {
   "cell_type": "code",
   "execution_count": 25,
   "id": "989ad746",
   "metadata": {},
   "outputs": [
    {
     "name": "stdout",
     "output_type": "stream",
     "text": [
      "Requirement already satisfied: matplotlib in /Users/miguelcamargorojas/Documents/envs/NLP25/lib/python3.13/site-packages (3.10.5)\n",
      "Requirement already satisfied: contourpy>=1.0.1 in /Users/miguelcamargorojas/Documents/envs/NLP25/lib/python3.13/site-packages (from matplotlib) (1.3.3)\n",
      "Requirement already satisfied: cycler>=0.10 in /Users/miguelcamargorojas/Documents/envs/NLP25/lib/python3.13/site-packages (from matplotlib) (0.12.1)\n",
      "Requirement already satisfied: fonttools>=4.22.0 in /Users/miguelcamargorojas/Documents/envs/NLP25/lib/python3.13/site-packages (from matplotlib) (4.59.2)\n",
      "Requirement already satisfied: kiwisolver>=1.3.1 in /Users/miguelcamargorojas/Documents/envs/NLP25/lib/python3.13/site-packages (from matplotlib) (1.4.9)\n",
      "Requirement already satisfied: numpy>=1.23 in /Users/miguelcamargorojas/Documents/envs/NLP25/lib/python3.13/site-packages (from matplotlib) (2.3.2)\n",
      "Requirement already satisfied: packaging>=20.0 in /Users/miguelcamargorojas/Documents/envs/NLP25/lib/python3.13/site-packages (from matplotlib) (25.0)\n",
      "Requirement already satisfied: pillow>=8 in /Users/miguelcamargorojas/Documents/envs/NLP25/lib/python3.13/site-packages (from matplotlib) (11.3.0)\n",
      "Requirement already satisfied: pyparsing>=2.3.1 in /Users/miguelcamargorojas/Documents/envs/NLP25/lib/python3.13/site-packages (from matplotlib) (3.2.3)\n",
      "Requirement already satisfied: python-dateutil>=2.7 in /Users/miguelcamargorojas/Documents/envs/NLP25/lib/python3.13/site-packages (from matplotlib) (2.9.0.post0)\n",
      "Requirement already satisfied: six>=1.5 in /Users/miguelcamargorojas/Documents/envs/NLP25/lib/python3.13/site-packages (from python-dateutil>=2.7->matplotlib) (1.17.0)\n",
      "Note: you may need to restart the kernel to use updated packages.\n"
     ]
    }
   ],
   "source": [
    "%pip install matplotlib"
   ]
  },
  {
   "cell_type": "code",
   "execution_count": 26,
   "id": "2d3aa73d",
   "metadata": {},
   "outputs": [
    {
     "data": {
      "text/plain": [
       "<Axes: xlabel='Samples', ylabel='Counts'>"
      ]
     },
     "execution_count": 26,
     "metadata": {},
     "output_type": "execute_result"
    },
    {
     "data": {
      "image/png": "[encoded data removed]",
      "text/plain": [
       "<Figure size 640x480 with 1 Axes>"
      ]
     },
     "metadata": {},
     "output_type": "display_data"
    }
   ],
   "source": [
    "frecuencias.plot()"
   ]
  },
  {
   "cell_type": "code",
   "execution_count": 27,
   "id": "6d2ae787",
   "metadata": {},
   "outputs": [],
   "source": [
    "import pandas as pd"
   ]
  },
  {
   "cell_type": "code",
   "execution_count": 28,
   "id": "33e85e81",
   "metadata": {},
   "outputs": [
    {
     "data": {
      "text/html": [
       "<div>\n",
       "<style scoped>\n",
       "    .dataframe tbody tr th:only-of-type {\n",
       "        vertical-align: middle;\n",
       "    }\n",
       "\n",
       "    .dataframe tbody tr th {\n",
       "        vertical-align: top;\n",
       "    }\n",
       "\n",
       "    .dataframe thead th {\n",
       "        text-align: right;\n",
       "    }\n",
       "</style>\n",
       "<table border=\"1\" class=\"dataframe\">\n",
       "  <thead>\n",
       "    <tr style=\"text-align: right;\">\n",
       "      <th></th>\n",
       "      <th>0</th>\n",
       "    </tr>\n",
       "  </thead>\n",
       "  <tbody>\n",
       "    <tr>\n",
       "      <th>televisora</th>\n",
       "      <td>1</td>\n",
       "    </tr>\n",
       "    <tr>\n",
       "      <th>primera</th>\n",
       "      <td>1</td>\n",
       "    </tr>\n",
       "    <tr>\n",
       "      <th>estación</th>\n",
       "      <td>1</td>\n",
       "    </tr>\n",
       "    <tr>\n",
       "      <th>televisión</th>\n",
       "      <td>1</td>\n",
       "    </tr>\n",
       "    <tr>\n",
       "      <th>educativa</th>\n",
       "      <td>1</td>\n",
       "    </tr>\n",
       "    <tr>\n",
       "      <th>cultural</th>\n",
       "      <td>1</td>\n",
       "    </tr>\n",
       "    <tr>\n",
       "      <th>méxico</th>\n",
       "      <td>1</td>\n",
       "    </tr>\n",
       "    <tr>\n",
       "      <th>fines</th>\n",
       "      <td>1</td>\n",
       "    </tr>\n",
       "    <tr>\n",
       "      <th>comerciales</th>\n",
       "      <td>1</td>\n",
       "    </tr>\n",
       "    <tr>\n",
       "      <th>fundación</th>\n",
       "      <td>1</td>\n",
       "    </tr>\n",
       "    <tr>\n",
       "      <th>canal</th>\n",
       "      <td>2</td>\n",
       "    </tr>\n",
       "    <tr>\n",
       "      <th>promotores</th>\n",
       "      <td>1</td>\n",
       "    </tr>\n",
       "    <tr>\n",
       "      <th>alejo</th>\n",
       "      <td>1</td>\n",
       "    </tr>\n",
       "    <tr>\n",
       "      <th>peralta</th>\n",
       "      <td>1</td>\n",
       "    </tr>\n",
       "    <tr>\n",
       "      <th>díaz</th>\n",
       "      <td>1</td>\n",
       "    </tr>\n",
       "    <tr>\n",
       "      <th>ceballos</th>\n",
       "      <td>1</td>\n",
       "    </tr>\n",
       "    <tr>\n",
       "      <th>eugenio</th>\n",
       "      <td>1</td>\n",
       "    </tr>\n",
       "    <tr>\n",
       "      <th>méndez</th>\n",
       "      <td>1</td>\n",
       "    </tr>\n",
       "    <tr>\n",
       "      <th>docurro</th>\n",
       "      <td>1</td>\n",
       "    </tr>\n",
       "    <tr>\n",
       "      <th>ambos</th>\n",
       "      <td>1</td>\n",
       "    </tr>\n",
       "    <tr>\n",
       "      <th>contaron</th>\n",
       "      <td>1</td>\n",
       "    </tr>\n",
       "    <tr>\n",
       "      <th>apoyo</th>\n",
       "      <td>1</td>\n",
       "    </tr>\n",
       "    <tr>\n",
       "      <th>secretario</th>\n",
       "      <td>2</td>\n",
       "    </tr>\n",
       "    <tr>\n",
       "      <th>educación</th>\n",
       "      <td>1</td>\n",
       "    </tr>\n",
       "    <tr>\n",
       "      <th>pública</th>\n",
       "      <td>1</td>\n",
       "    </tr>\n",
       "    <tr>\n",
       "      <th>jaime</th>\n",
       "      <td>1</td>\n",
       "    </tr>\n",
       "    <tr>\n",
       "      <th>torres</th>\n",
       "      <td>1</td>\n",
       "    </tr>\n",
       "    <tr>\n",
       "      <th>bodet</th>\n",
       "      <td>1</td>\n",
       "    </tr>\n",
       "    <tr>\n",
       "      <th>comunicaciones</th>\n",
       "      <td>1</td>\n",
       "    </tr>\n",
       "    <tr>\n",
       "      <th>walter</th>\n",
       "      <td>1</td>\n",
       "    </tr>\n",
       "    <tr>\n",
       "      <th>cross</th>\n",
       "      <td>1</td>\n",
       "    </tr>\n",
       "    <tr>\n",
       "      <th>buchanan</th>\n",
       "      <td>1</td>\n",
       "    </tr>\n",
       "    <tr>\n",
       "      <th>11</th>\n",
       "      <td>1</td>\n",
       "    </tr>\n",
       "    <tr>\n",
       "      <th>distintivo</th>\n",
       "      <td>1</td>\n",
       "    </tr>\n",
       "    <tr>\n",
       "      <th>xeipn</th>\n",
       "      <td>1</td>\n",
       "    </tr>\n",
       "    <tr>\n",
       "      <th>tv</th>\n",
       "      <td>1</td>\n",
       "    </tr>\n",
       "    <tr>\n",
       "      <th>inició</th>\n",
       "      <td>1</td>\n",
       "    </tr>\n",
       "    <tr>\n",
       "      <th>transmisiones</th>\n",
       "      <td>1</td>\n",
       "    </tr>\n",
       "    <tr>\n",
       "      <th>2</th>\n",
       "      <td>1</td>\n",
       "    </tr>\n",
       "    <tr>\n",
       "      <th>marzo</th>\n",
       "      <td>1</td>\n",
       "    </tr>\n",
       "    <tr>\n",
       "      <th>1959</th>\n",
       "      <td>1</td>\n",
       "    </tr>\n",
       "    <tr>\n",
       "      <th>instalaciones</th>\n",
       "      <td>1</td>\n",
       "    </tr>\n",
       "    <tr>\n",
       "      <th>campus</th>\n",
       "      <td>1</td>\n",
       "    </tr>\n",
       "    <tr>\n",
       "      <th>santo</th>\n",
       "      <td>1</td>\n",
       "    </tr>\n",
       "    <tr>\n",
       "      <th>tomás</th>\n",
       "      <td>1</td>\n",
       "    </tr>\n",
       "    <tr>\n",
       "      <th>instituto</th>\n",
       "      <td>1</td>\n",
       "    </tr>\n",
       "    <tr>\n",
       "      <th>politécnico</th>\n",
       "      <td>1</td>\n",
       "    </tr>\n",
       "    <tr>\n",
       "      <th>nacional</th>\n",
       "      <td>1</td>\n",
       "    </tr>\n",
       "    <tr>\n",
       "      <th>medio</th>\n",
       "      <td>1</td>\n",
       "    </tr>\n",
       "    <tr>\n",
       "      <th>transmisor</th>\n",
       "      <td>1</td>\n",
       "    </tr>\n",
       "    <tr>\n",
       "      <th>5</th>\n",
       "      <td>1</td>\n",
       "    </tr>\n",
       "    <tr>\n",
       "      <th>kw</th>\n",
       "      <td>1</td>\n",
       "    </tr>\n",
       "    <tr>\n",
       "      <th>señal</th>\n",
       "      <td>1</td>\n",
       "    </tr>\n",
       "    <tr>\n",
       "      <th>tan</th>\n",
       "      <td>1</td>\n",
       "    </tr>\n",
       "    <tr>\n",
       "      <th>limitada</th>\n",
       "      <td>1</td>\n",
       "    </tr>\n",
       "    <tr>\n",
       "      <th>apenas</th>\n",
       "      <td>1</td>\n",
       "    </tr>\n",
       "    <tr>\n",
       "      <th>captaba</th>\n",
       "      <td>1</td>\n",
       "    </tr>\n",
       "    <tr>\n",
       "      <th>cercanías</th>\n",
       "      <td>1</td>\n",
       "    </tr>\n",
       "    <tr>\n",
       "      <th>emisora</th>\n",
       "      <td>1</td>\n",
       "    </tr>\n",
       "  </tbody>\n",
       "</table>\n",
       "</div>"
      ],
      "text/plain": [
       "                0\n",
       "televisora      1\n",
       "primera         1\n",
       "estación        1\n",
       "televisión      1\n",
       "educativa       1\n",
       "cultural        1\n",
       "méxico          1\n",
       "fines           1\n",
       "comerciales     1\n",
       "fundación       1\n",
       "canal           2\n",
       "promotores      1\n",
       "alejo           1\n",
       "peralta         1\n",
       "díaz            1\n",
       "ceballos        1\n",
       "eugenio         1\n",
       "méndez          1\n",
       "docurro         1\n",
       "ambos           1\n",
       "contaron        1\n",
       "apoyo           1\n",
       "secretario      2\n",
       "educación       1\n",
       "pública         1\n",
       "jaime           1\n",
       "torres          1\n",
       "bodet           1\n",
       "comunicaciones  1\n",
       "walter          1\n",
       "cross           1\n",
       "buchanan        1\n",
       "11              1\n",
       "distintivo      1\n",
       "xeipn           1\n",
       "tv              1\n",
       "inició          1\n",
       "transmisiones   1\n",
       "2               1\n",
       "marzo           1\n",
       "1959            1\n",
       "instalaciones   1\n",
       "campus          1\n",
       "santo           1\n",
       "tomás           1\n",
       "instituto       1\n",
       "politécnico     1\n",
       "nacional        1\n",
       "medio           1\n",
       "transmisor      1\n",
       "5               1\n",
       "kw              1\n",
       "señal           1\n",
       "tan             1\n",
       "limitada        1\n",
       "apenas          1\n",
       "captaba         1\n",
       "cercanías       1\n",
       "emisora         1"
      ]
     },
     "execution_count": 28,
     "metadata": {},
     "output_type": "execute_result"
    }
   ],
   "source": [
    "pd.DataFrame([frecuencias]).T"
   ]
  },
  {
   "cell_type": "markdown",
   "id": "218f7e71",
   "metadata": {},
   "source": [
    "---"
   ]
  },
  {
   "cell_type": "code",
   "execution_count": null,
   "id": "4a2774c3",
   "metadata": {},
   "outputs": [],
   "source": [
    "# nltk.download(\"gutenberg\")"
   ]
  },
  {
   "cell_type": "code",
   "execution_count": 29,
   "id": "bb7a5753",
   "metadata": {},
   "outputs": [],
   "source": [
    "from nltk.book import gutenberg"
   ]
  },
  {
   "cell_type": "code",
   "execution_count": 35,
   "id": "02cac222",
   "metadata": {},
   "outputs": [],
   "source": [
    "libro = gutenberg.raw('carroll-alice.txt')"
   ]
  },
  {
   "cell_type": "code",
   "execution_count": 36,
   "id": "bcc46df7",
   "metadata": {},
   "outputs": [
    {
     "name": "stdout",
     "output_type": "stream",
     "text": [
      "[Alice's Adventures in Wonderland by Lewis Carroll 1865]\n",
      "\n",
      "CHAPTER I. Down the Rabbit-Hole\n",
      "\n",
      "Alice was beginning to get very tired of sitting by her sister on the\n",
      "bank, and of having nothing to do: once or twice she had peeped into the\n",
      "book her sister was reading, but it had no pictures or conversations in\n",
      "it, 'and what is the use of a book,' thought Alice 'without pictures or\n",
      "conversation?'\n",
      "\n",
      "So she was considering in her own mind (as well as she could, for the\n",
      "hot day made her feel very sleepy and stupid), whether the pleasure\n",
      "of making a daisy-chain would be worth the trouble of getting up and\n",
      "picking the daisies, when suddenly a White Rabbit with pink eyes ran\n",
      "close by her.\n",
      "\n",
      "There was nothing so VERY remarkable in that; nor did Alice think it so\n",
      "VERY much out of the way to hear the Rabbit say to itself, 'Oh dear!\n",
      "Oh dear! I shall be late!' (when she thought it over afterwards, it\n",
      "occurred to her that she ought to have wondered at this, but at the time\n",
      "it all seemed quite natural); but\n"
     ]
    }
   ],
   "source": [
    "print(libro[:1000])"
   ]
  },
  {
   "cell_type": "code",
   "execution_count": 37,
   "id": "a45b6cfb",
   "metadata": {},
   "outputs": [
    {
     "data": {
      "text/plain": [
       "144395"
      ]
     },
     "execution_count": 37,
     "metadata": {},
     "output_type": "execute_result"
    }
   ],
   "source": [
    "len(libro)"
   ]
  },
  {
   "cell_type": "code",
   "execution_count": 41,
   "id": "4769a241",
   "metadata": {},
   "outputs": [],
   "source": [
    "libro = re.sub(r\"\\W+\", \" \", libro)"
   ]
  },
  {
   "cell_type": "code",
   "execution_count": 42,
   "id": "4c908ca4",
   "metadata": {},
   "outputs": [
    {
     "data": {
      "text/plain": [
       "135030"
      ]
     },
     "execution_count": 42,
     "metadata": {},
     "output_type": "execute_result"
    }
   ],
   "source": [
    "len(libro)"
   ]
  },
  {
   "cell_type": "code",
   "execution_count": 43,
   "id": "1abc893b",
   "metadata": {},
   "outputs": [],
   "source": [
    "tokens = nltk.word_tokenize(libro)"
   ]
  },
  {
   "cell_type": "code",
   "execution_count": 44,
   "id": "6db585b0",
   "metadata": {},
   "outputs": [],
   "source": [
    "frecs_book = nltk.FreqDist(tokens)"
   ]
  },
  {
   "cell_type": "code",
   "execution_count": 45,
   "id": "f383503f",
   "metadata": {},
   "outputs": [
    {
     "data": {
      "text/plain": [
       "[('the', 1527),\n",
       " ('and', 802),\n",
       " ('to', 725),\n",
       " ('a', 615),\n",
       " ('I', 543),\n",
       " ('it', 527),\n",
       " ('she', 509),\n",
       " ('of', 500),\n",
       " ('said', 456),\n",
       " ('Alice', 396)]"
      ]
     },
     "execution_count": 45,
     "metadata": {},
     "output_type": "execute_result"
    }
   ],
   "source": [
    "frecs_book.most_common(10)"
   ]
  },
  {
   "cell_type": "code",
   "execution_count": 47,
   "id": "61f2310c",
   "metadata": {},
   "outputs": [],
   "source": [
    "from matplotlib import pyplot as plt"
   ]
  },
  {
   "cell_type": "code",
   "execution_count": 53,
   "id": "b4f04cc4",
   "metadata": {},
   "outputs": [
    {
     "data": {
      "image/png": "[encoded data removed]",
      "text/plain": [
       "<Figure size 1200x600 with 1 Axes>"
      ]
     },
     "metadata": {},
     "output_type": "display_data"
    }
   ],
   "source": [
    "plt.figure(figsize=(12, 6))\n",
    "frecs_book.plot(20, title=\"10 palabras más frecuentes\")\n",
    "plt.xticks(rotation=45)\n",
    "plt.tight_layout()\n",
    "plt.show()"
   ]
  },
  {
   "cell_type": "code",
   "execution_count": 60,
   "id": "f618f1c1",
   "metadata": {},
   "outputs": [
    {
     "name": "stdout",
     "output_type": "stream",
     "text": [
      "Antes de limpiar el texto había 27337 tokens\n",
      "Después de limpiar el texto hay 12242 tokens\n"
     ]
    },
    {
     "data": {
      "image/png": "[encoded data removed]",
      "text/plain": [
       "<Figure size 1200x600 with 1 Axes>"
      ]
     },
     "metadata": {},
     "output_type": "display_data"
    }
   ],
   "source": [
    "\"\"\"\n",
    "Pipeline para NLP\n",
    "1) Normalizar (minúsculas)\n",
    "2) Eliminar caracteres especiales\n",
    "3) Tokenizarlo\n",
    "4) Eliminar palabras vacías\n",
    "\"\"\"\n",
    "def limpiar_texto(texto, idioma=\"spanish\", as_text=False):\n",
    "    stopwords = nltk.corpus.stopwords.words(idioma)    \n",
    "    texto = texto.lower() # Convierte todo a minus\n",
    "    texto = re.sub(r\"\\W+\", \" \", texto)\n",
    "    tokens = nltk.word_tokenize(texto, idioma)\n",
    "    print(f\"Antes de limpiar el texto había {len(tokens)} tokens\")\n",
    "    filteredTokens = [w for w in tokens if w not in stopwords]\n",
    "    print(f\"Después de limpiar el texto hay {len(filteredTokens)} tokens\")\n",
    "    if as_text: \n",
    "        return \" \".join(filteredTokens)\n",
    "    else:\n",
    "        return filteredTokens\n",
    "    \n",
    "libro = gutenberg.raw('carroll-alice.txt')\n",
    "libro_tokens_limpio = limpiar_texto(libro, \"english\")\n",
    "frecs_book = nltk.FreqDist(libro_tokens_limpio)\n",
    "\n",
    "plt.figure(figsize=(12, 6))\n",
    "frecs_book.plot(20, title=\"20 palabras más frecuentes\")\n",
    "plt.xticks(rotation=45)\n",
    "plt.tight_layout()\n",
    "plt.show()\n"
   ]
  }
 ],
 "metadata": {
  "kernelspec": {
   "display_name": "NLP25",
   "language": "python",
   "name": "python3"
  },
  "language_info": {
   "codemirror_mode": {
    "name": "ipython",
    "version": 3
   },
   "file_extension": ".py",
   "mimetype": "text/x-python",
   "name": "python",
   "nbconvert_exporter": "python",
   "pygments_lexer": "ipython3",
   "version": "3.13.7"
  }
 },
 "nbformat": 4,
 "nbformat_minor": 5
}
