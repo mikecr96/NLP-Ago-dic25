{
 "cells": [
  {
   "cell_type": "code",
   "execution_count": 1,
   "id": "6364868d",
   "metadata": {},
   "outputs": [],
   "source": [
    "from nltk import bigrams, trigrams"
   ]
  },
  {
   "cell_type": "code",
   "execution_count": 2,
   "id": "6dc26afb",
   "metadata": {},
   "outputs": [],
   "source": [
    "review = \"I hate this movie. It's absolutely boring.\""
   ]
  },
  {
   "cell_type": "code",
   "execution_count": 3,
   "id": "aa1403b8",
   "metadata": {},
   "outputs": [],
   "source": [
    "import re\n",
    "\n",
    "review_lower = review.lower()\n",
    "review_clean = re.sub(r\"\\W+\", \" \", review_lower)"
   ]
  },
  {
   "cell_type": "code",
   "execution_count": 4,
   "id": "2e0daf55",
   "metadata": {},
   "outputs": [],
   "source": [
    "from nltk import word_tokenize"
   ]
  },
  {
   "cell_type": "code",
   "execution_count": 5,
   "id": "2ffdad06",
   "metadata": {},
   "outputs": [],
   "source": [
    "tokens_limpios = word_tokenize(review_clean)"
   ]
  },
  {
   "cell_type": "code",
   "execution_count": 6,
   "id": "0bf33622",
   "metadata": {},
   "outputs": [
    {
     "data": {
      "text/plain": [
       "['i', 'hate', 'this', 'movie', 'it', 's', 'absolutely', 'boring']"
      ]
     },
     "execution_count": 6,
     "metadata": {},
     "output_type": "execute_result"
    }
   ],
   "source": [
    "tokens_limpios"
   ]
  },
  {
   "cell_type": "code",
   "execution_count": 9,
   "id": "4a000053",
   "metadata": {},
   "outputs": [
    {
     "data": {
      "text/plain": [
       "[('i', 'hate'),\n",
       " ('hate', 'this'),\n",
       " ('this', 'movie'),\n",
       " ('movie', 'it'),\n",
       " ('it', 's'),\n",
       " ('s', 'absolutely'),\n",
       " ('absolutely', 'boring')]"
      ]
     },
     "execution_count": 9,
     "metadata": {},
     "output_type": "execute_result"
    }
   ],
   "source": [
    "list(bigrams(tokens_limpios))"
   ]
  },
  {
   "cell_type": "code",
   "execution_count": 11,
   "id": "8d550e24",
   "metadata": {},
   "outputs": [
    {
     "data": {
      "text/plain": [
       "[('i', 'hate', 'this'),\n",
       " ('hate', 'this', 'movie'),\n",
       " ('this', 'movie', 'it'),\n",
       " ('movie', 'it', 's'),\n",
       " ('it', 's', 'absolutely'),\n",
       " ('s', 'absolutely', 'boring')]"
      ]
     },
     "execution_count": 11,
     "metadata": {},
     "output_type": "execute_result"
    }
   ],
   "source": [
    "list(trigrams(tokens_limpios))"
   ]
  },
  {
   "cell_type": "code",
   "execution_count": 12,
   "id": "bca657a8",
   "metadata": {},
   "outputs": [],
   "source": [
    "from nltk import ngrams"
   ]
  },
  {
   "cell_type": "code",
   "execution_count": 18,
   "id": "f885d496",
   "metadata": {},
   "outputs": [
    {
     "data": {
      "text/plain": [
       "[('i', 'hate'),\n",
       " ('hate', 'this'),\n",
       " ('this', 'movie'),\n",
       " ('movie', 'it'),\n",
       " ('it', 's'),\n",
       " ('s', 'absolutely'),\n",
       " ('absolutely', 'boring')]"
      ]
     },
     "execution_count": 18,
     "metadata": {},
     "output_type": "execute_result"
    }
   ],
   "source": [
    "list(ngrams(tokens_limpios, 2))"
   ]
  },
  {
   "cell_type": "code",
   "execution_count": null,
   "id": "719d06ad",
   "metadata": {},
   "outputs": [],
   "source": []
  }
 ],
 "metadata": {
  "kernelspec": {
   "display_name": "NLP25",
   "language": "python",
   "name": "python3"
  },
  "language_info": {
   "codemirror_mode": {
    "name": "ipython",
    "version": 3
   },
   "file_extension": ".py",
   "mimetype": "text/x-python",
   "name": "python",
   "nbconvert_exporter": "python",
   "pygments_lexer": "ipython3",
   "version": "3.13.7"
  }
 },
 "nbformat": 4,
 "nbformat_minor": 5
}
