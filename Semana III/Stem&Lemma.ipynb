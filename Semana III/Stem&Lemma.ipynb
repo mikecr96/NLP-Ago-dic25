{
 "cells": [
  {
   "cell_type": "markdown",
   "id": "a8f9b0a6",
   "metadata": {},
   "source": [
    "## Stemming"
   ]
  },
  {
   "cell_type": "code",
   "execution_count": 1,
   "id": "1fff1bd7",
   "metadata": {},
   "outputs": [],
   "source": [
    "from nltk.stem import SnowballStemmer"
   ]
  },
  {
   "cell_type": "code",
   "execution_count": 2,
   "id": "d7028623",
   "metadata": {},
   "outputs": [],
   "source": [
    "stemmer = SnowballStemmer(\"spanish\")"
   ]
  },
  {
   "cell_type": "code",
   "execution_count": 3,
   "id": "4a66df42",
   "metadata": {},
   "outputs": [
    {
     "data": {
      "text/plain": [
       "nltk.stem.snowball.SnowballStemmer"
      ]
     },
     "execution_count": 3,
     "metadata": {},
     "output_type": "execute_result"
    }
   ],
   "source": [
    "type(stemmer)"
   ]
  },
  {
   "cell_type": "code",
   "execution_count": 4,
   "id": "6baf171c",
   "metadata": {},
   "outputs": [
    {
     "data": {
      "text/plain": [
       "['__abstractmethods__',\n",
       " '__class__',\n",
       " '__delattr__',\n",
       " '__dict__',\n",
       " '__dir__',\n",
       " '__doc__',\n",
       " '__eq__',\n",
       " '__firstlineno__',\n",
       " '__format__',\n",
       " '__ge__',\n",
       " '__getattribute__',\n",
       " '__getstate__',\n",
       " '__gt__',\n",
       " '__hash__',\n",
       " '__init__',\n",
       " '__init_subclass__',\n",
       " '__le__',\n",
       " '__lt__',\n",
       " '__module__',\n",
       " '__ne__',\n",
       " '__new__',\n",
       " '__reduce__',\n",
       " '__reduce_ex__',\n",
       " '__repr__',\n",
       " '__setattr__',\n",
       " '__sizeof__',\n",
       " '__static_attributes__',\n",
       " '__str__',\n",
       " '__subclasshook__',\n",
       " '__weakref__',\n",
       " '_abc_impl',\n",
       " 'languages',\n",
       " 'stem',\n",
       " 'stemmer',\n",
       " 'stopwords']"
      ]
     },
     "execution_count": 4,
     "metadata": {},
     "output_type": "execute_result"
    }
   ],
   "source": [
    "dir(stemmer)"
   ]
  },
  {
   "cell_type": "code",
   "execution_count": 5,
   "id": "de325234",
   "metadata": {},
   "outputs": [
    {
     "data": {
      "text/plain": [
       "('arabic',\n",
       " 'danish',\n",
       " 'dutch',\n",
       " 'english',\n",
       " 'finnish',\n",
       " 'french',\n",
       " 'german',\n",
       " 'hungarian',\n",
       " 'italian',\n",
       " 'norwegian',\n",
       " 'porter',\n",
       " 'portuguese',\n",
       " 'romanian',\n",
       " 'russian',\n",
       " 'spanish',\n",
       " 'swedish')"
      ]
     },
     "execution_count": 5,
     "metadata": {},
     "output_type": "execute_result"
    }
   ],
   "source": [
    "stemmer.languages"
   ]
  },
  {
   "cell_type": "code",
   "execution_count": 6,
   "id": "4f40fc75",
   "metadata": {},
   "outputs": [
    {
     "data": {
      "text/plain": [
       "'bail'"
      ]
     },
     "execution_count": 6,
     "metadata": {},
     "output_type": "execute_result"
    }
   ],
   "source": [
    "stemmer.stem(\"bailaremos\")"
   ]
  },
  {
   "cell_type": "code",
   "execution_count": 7,
   "id": "05f47383",
   "metadata": {},
   "outputs": [
    {
     "name": "stdout",
     "output_type": "stream",
     "text": [
      "La forma stem de la palabra bailar es: bail\n",
      "La forma stem de la palabra bailando es: bail\n",
      "La forma stem de la palabra bailaremos es: bail\n",
      "La forma stem de la palabra bailó es: bail\n",
      "La forma stem de la palabra bailaré es: bail\n"
     ]
    }
   ],
   "source": [
    "palabras = [\"bailar\", \"bailando\", \"bailaremos\", \"bailó\", \"bailaré\"]\n",
    "for p in palabras:\n",
    "    print(f\"La forma stem de la palabra {p} es: {stemmer.stem(p)}\")"
   ]
  },
  {
   "cell_type": "code",
   "execution_count": 8,
   "id": "c2b5f13c",
   "metadata": {},
   "outputs": [],
   "source": [
    "texto_largo = \"\"\"La televisora es la primera estación de televisión educativa y cultural de México sin fines comerciales. \n",
    "La fundación del canal tuvo como promotores a Alejo Peralta y Díaz Ceballos y Eugenio Méndez Docurro. \n",
    "Ambos contaron con el apoyo del Secretario de Educación Pública, Jaime Torres Bodet, y del Secretario de Comunicaciones, Walter Cross Buchanan.\n",
    "Canal 11 con el distintivo XEIPN-TV inició transmisiones el 2 de marzo de 1959 en las instalaciones del campus Santo Tomás del Instituto Politécnico Nacional por medio de un transmisor de 5 kW. \n",
    "La señal era tan limitada que apenas se captaba en las cercanías de la emisora.\"\"\"\n",
    "texto_largo_minus = texto_largo.lower()"
   ]
  },
  {
   "cell_type": "code",
   "execution_count": 9,
   "id": "28b34c9f",
   "metadata": {},
   "outputs": [],
   "source": [
    "stemmer = SnowballStemmer(\"spanish\", ignore_stopwords=True)"
   ]
  },
  {
   "cell_type": "code",
   "execution_count": 10,
   "id": "d886ba28",
   "metadata": {},
   "outputs": [],
   "source": [
    "from nltk import word_tokenize"
   ]
  },
  {
   "cell_type": "code",
   "execution_count": 11,
   "id": "507c55bb",
   "metadata": {},
   "outputs": [],
   "source": [
    "tokens = word_tokenize(texto_largo_minus, \"spanish\")"
   ]
  },
  {
   "cell_type": "code",
   "execution_count": 12,
   "id": "125d99d6",
   "metadata": {},
   "outputs": [
    {
     "data": {
      "text/plain": [
       "['la',\n",
       " 'televisora',\n",
       " 'es',\n",
       " 'la',\n",
       " 'primera',\n",
       " 'estación',\n",
       " 'de',\n",
       " 'televisión',\n",
       " 'educativa',\n",
       " 'y',\n",
       " 'cultural',\n",
       " 'de',\n",
       " 'méxico',\n",
       " 'sin',\n",
       " 'fines',\n",
       " 'comerciales',\n",
       " '.',\n",
       " 'la',\n",
       " 'fundación',\n",
       " 'del',\n",
       " 'canal',\n",
       " 'tuvo',\n",
       " 'como',\n",
       " 'promotores',\n",
       " 'a',\n",
       " 'alejo',\n",
       " 'peralta',\n",
       " 'y',\n",
       " 'díaz',\n",
       " 'ceballos',\n",
       " 'y',\n",
       " 'eugenio',\n",
       " 'méndez',\n",
       " 'docurro',\n",
       " '.',\n",
       " 'ambos',\n",
       " 'contaron',\n",
       " 'con',\n",
       " 'el',\n",
       " 'apoyo',\n",
       " 'del',\n",
       " 'secretario',\n",
       " 'de',\n",
       " 'educación',\n",
       " 'pública',\n",
       " ',',\n",
       " 'jaime',\n",
       " 'torres',\n",
       " 'bodet',\n",
       " ',',\n",
       " 'y',\n",
       " 'del',\n",
       " 'secretario',\n",
       " 'de',\n",
       " 'comunicaciones',\n",
       " ',',\n",
       " 'walter',\n",
       " 'cross',\n",
       " 'buchanan',\n",
       " '.',\n",
       " 'canal',\n",
       " '11',\n",
       " 'con',\n",
       " 'el',\n",
       " 'distintivo',\n",
       " 'xeipn-tv',\n",
       " 'inició',\n",
       " 'transmisiones',\n",
       " 'el',\n",
       " '2',\n",
       " 'de',\n",
       " 'marzo',\n",
       " 'de',\n",
       " '1959',\n",
       " 'en',\n",
       " 'las',\n",
       " 'instalaciones',\n",
       " 'del',\n",
       " 'campus',\n",
       " 'santo',\n",
       " 'tomás',\n",
       " 'del',\n",
       " 'instituto',\n",
       " 'politécnico',\n",
       " 'nacional',\n",
       " 'por',\n",
       " 'medio',\n",
       " 'de',\n",
       " 'un',\n",
       " 'transmisor',\n",
       " 'de',\n",
       " '5',\n",
       " 'kw',\n",
       " '.',\n",
       " 'la',\n",
       " 'señal',\n",
       " 'era',\n",
       " 'tan',\n",
       " 'limitada',\n",
       " 'que',\n",
       " 'apenas',\n",
       " 'se',\n",
       " 'captaba',\n",
       " 'en',\n",
       " 'las',\n",
       " 'cercanías',\n",
       " 'de',\n",
       " 'la',\n",
       " 'emisora',\n",
       " '.']"
      ]
     },
     "execution_count": 12,
     "metadata": {},
     "output_type": "execute_result"
    }
   ],
   "source": [
    "tokens"
   ]
  },
  {
   "cell_type": "code",
   "execution_count": 13,
   "id": "118b9455",
   "metadata": {},
   "outputs": [],
   "source": [
    "tokens_stem = []\n",
    "for token in tokens:\n",
    "    tokens_stem.append(stemmer.stem(token))"
   ]
  },
  {
   "cell_type": "code",
   "execution_count": 14,
   "id": "2b67eb24",
   "metadata": {},
   "outputs": [
    {
     "data": {
      "text/plain": [
       "['la',\n",
       " 'televisor',\n",
       " 'es',\n",
       " 'la',\n",
       " 'primer',\n",
       " 'estacion',\n",
       " 'de',\n",
       " 'television',\n",
       " 'educ',\n",
       " 'y',\n",
       " 'cultural',\n",
       " 'de',\n",
       " 'mexic',\n",
       " 'sin',\n",
       " 'fin',\n",
       " 'comercial',\n",
       " '.',\n",
       " 'la',\n",
       " 'fundacion',\n",
       " 'del',\n",
       " 'canal',\n",
       " 'tuvo',\n",
       " 'como',\n",
       " 'promotor',\n",
       " 'a',\n",
       " 'alej',\n",
       " 'peralt',\n",
       " 'y',\n",
       " 'diaz',\n",
       " 'ceball',\n",
       " 'y',\n",
       " 'eugeni',\n",
       " 'mendez',\n",
       " 'docurr',\n",
       " '.',\n",
       " 'ambos',\n",
       " 'cont',\n",
       " 'con',\n",
       " 'el',\n",
       " 'apoy',\n",
       " 'del',\n",
       " 'secretari',\n",
       " 'de',\n",
       " 'educ',\n",
       " 'public',\n",
       " ',',\n",
       " 'jaim',\n",
       " 'torr',\n",
       " 'bodet',\n",
       " ',',\n",
       " 'y',\n",
       " 'del',\n",
       " 'secretari',\n",
       " 'de',\n",
       " 'comun',\n",
       " ',',\n",
       " 'walt',\n",
       " 'cross',\n",
       " 'buchan',\n",
       " '.',\n",
       " 'canal',\n",
       " '11',\n",
       " 'con',\n",
       " 'el',\n",
       " 'distint',\n",
       " 'xeipn-tv',\n",
       " 'inic',\n",
       " 'transmision',\n",
       " 'el',\n",
       " '2',\n",
       " 'de',\n",
       " 'marz',\n",
       " 'de',\n",
       " '1959',\n",
       " 'en',\n",
       " 'las',\n",
       " 'instal',\n",
       " 'del',\n",
       " 'campus',\n",
       " 'sant',\n",
       " 'tomas',\n",
       " 'del',\n",
       " 'institut',\n",
       " 'politecn',\n",
       " 'nacional',\n",
       " 'por',\n",
       " 'medi',\n",
       " 'de',\n",
       " 'un',\n",
       " 'transmisor',\n",
       " 'de',\n",
       " '5',\n",
       " 'kw',\n",
       " '.',\n",
       " 'la',\n",
       " 'señal',\n",
       " 'era',\n",
       " 'tan',\n",
       " 'limit',\n",
       " 'que',\n",
       " 'apen',\n",
       " 'se',\n",
       " 'capt',\n",
       " 'en',\n",
       " 'las',\n",
       " 'cercan',\n",
       " 'de',\n",
       " 'la',\n",
       " 'emisor',\n",
       " '.']"
      ]
     },
     "execution_count": 14,
     "metadata": {},
     "output_type": "execute_result"
    }
   ],
   "source": [
    "tokens_stem"
   ]
  },
  {
   "cell_type": "code",
   "execution_count": 15,
   "id": "a8bd470d",
   "metadata": {},
   "outputs": [
    {
     "data": {
      "text/plain": [
       "['hola', 'mundo']"
      ]
     },
     "execution_count": 15,
     "metadata": {},
     "output_type": "execute_result"
    }
   ],
   "source": [
    "\"hola mundo\".split()"
   ]
  },
  {
   "cell_type": "code",
   "execution_count": 16,
   "id": "b5562866",
   "metadata": {},
   "outputs": [
    {
     "data": {
      "text/plain": [
       "'la televisor es la primer estacion de television educ y cultural de mexic sin fin comercial . la fundacion del canal tuvo como promotor a alej peralt y diaz ceball y eugeni mendez docurr . ambos cont con el apoy del secretari de educ public , jaim torr bodet , y del secretari de comun , walt cross buchan . canal 11 con el distint xeipn-tv inic transmision el 2 de marz de 1959 en las instal del campus sant tomas del institut politecn nacional por medi de un transmisor de 5 kw . la señal era tan limit que apen se capt en las cercan de la emisor . '"
      ]
     },
     "execution_count": 16,
     "metadata": {},
     "output_type": "execute_result"
    }
   ],
   "source": [
    "textoStem = \"\"\n",
    "for token in tokens_stem:\n",
    "    textoStem += token\n",
    "    textoStem += \" \"\n",
    "\n",
    "textoStem"
   ]
  },
  {
   "cell_type": "code",
   "execution_count": 17,
   "id": "19df92fd",
   "metadata": {},
   "outputs": [
    {
     "data": {
      "text/plain": [
       "'la televisor es la primer estacion de television educ y cultural de mexic sin fin comercial . la fundacion del canal tuvo como promotor a alej peralt y diaz ceball y eugeni mendez docurr . ambos cont con el apoy del secretari de educ public , jaim torr bodet , y del secretari de comun , walt cross buchan . canal 11 con el distint xeipn-tv inic transmision el 2 de marz de 1959 en las instal del campus sant tomas del institut politecn nacional por medi de un transmisor de 5 kw . la señal era tan limit que apen se capt en las cercan de la emisor .'"
      ]
     },
     "execution_count": 17,
     "metadata": {},
     "output_type": "execute_result"
    }
   ],
   "source": [
    "\" \".join(tokens_stem)"
   ]
  },
  {
   "cell_type": "markdown",
   "id": "e303ca58",
   "metadata": {},
   "source": [
    "## Lematización"
   ]
  },
  {
   "cell_type": "code",
   "execution_count": 18,
   "id": "6e77bbe1",
   "metadata": {},
   "outputs": [],
   "source": [
    "from nltk.stem import WordNetLemmatizer"
   ]
  },
  {
   "cell_type": "code",
   "execution_count": 19,
   "id": "3c3b7422",
   "metadata": {},
   "outputs": [],
   "source": [
    "lemma = WordNetLemmatizer()"
   ]
  },
  {
   "cell_type": "code",
   "execution_count": 20,
   "id": "a31c9837",
   "metadata": {},
   "outputs": [
    {
     "data": {
      "text/plain": [
       "nltk.stem.wordnet.WordNetLemmatizer"
      ]
     },
     "execution_count": 20,
     "metadata": {},
     "output_type": "execute_result"
    }
   ],
   "source": [
    "type(lemma)"
   ]
  },
  {
   "cell_type": "code",
   "execution_count": 21,
   "id": "93b1d910",
   "metadata": {},
   "outputs": [
    {
     "data": {
      "text/plain": [
       "['__class__',\n",
       " '__delattr__',\n",
       " '__dict__',\n",
       " '__dir__',\n",
       " '__doc__',\n",
       " '__eq__',\n",
       " '__firstlineno__',\n",
       " '__format__',\n",
       " '__ge__',\n",
       " '__getattribute__',\n",
       " '__getstate__',\n",
       " '__gt__',\n",
       " '__hash__',\n",
       " '__init__',\n",
       " '__init_subclass__',\n",
       " '__le__',\n",
       " '__lt__',\n",
       " '__module__',\n",
       " '__ne__',\n",
       " '__new__',\n",
       " '__reduce__',\n",
       " '__reduce_ex__',\n",
       " '__repr__',\n",
       " '__setattr__',\n",
       " '__sizeof__',\n",
       " '__static_attributes__',\n",
       " '__str__',\n",
       " '__subclasshook__',\n",
       " '__weakref__',\n",
       " '_morphy',\n",
       " 'lemmatize',\n",
       " 'morphy']"
      ]
     },
     "execution_count": 21,
     "metadata": {},
     "output_type": "execute_result"
    }
   ],
   "source": [
    "dir(lemma)"
   ]
  },
  {
   "cell_type": "code",
   "execution_count": 22,
   "id": "32602656",
   "metadata": {},
   "outputs": [
    {
     "data": {
      "text/plain": [
       "'dancer'"
      ]
     },
     "execution_count": 22,
     "metadata": {},
     "output_type": "execute_result"
    }
   ],
   "source": [
    "lemma.lemmatize(\"dancer\")"
   ]
  },
  {
   "cell_type": "code",
   "execution_count": 26,
   "id": "41bd2864",
   "metadata": {},
   "outputs": [
    {
     "name": "stdout",
     "output_type": "stream",
     "text": [
      "play\n",
      "play\n",
      "player\n",
      "play\n"
     ]
    }
   ],
   "source": [
    "words = [\"play\", \"played\", \"player\", \"playing\"]\n",
    "\n",
    "for word in words:\n",
    "    print(lemma.lemmatize(word, pos=\"v\"))"
   ]
  },
  {
   "cell_type": "code",
   "execution_count": 31,
   "id": "081e412d",
   "metadata": {},
   "outputs": [
    {
     "name": "stdout",
     "output_type": "stream",
     "text": [
      "big\n",
      "big\n",
      "ugly\n",
      "ugly\n",
      "small\n",
      "small\n",
      "fat\n",
      "fat\n",
      "funny\n",
      "funny\n",
      "tall\n",
      "tall\n"
     ]
    }
   ],
   "source": [
    "adjectives = [\"big\", \"bigger\", \"ugly\", \"ugliest\", \"small\", \n",
    "              \"smallest\", \"fat\", \"fatest\", \"funny\", \"funnier\", \"tall\", \"taller\"]\n",
    "for adj in adjectives:\n",
    "    print(lemma.lemmatize(adj, pos=\"a\"))"
   ]
  }
 ],
 "metadata": {
  "kernelspec": {
   "display_name": "NLP25",
   "language": "python",
   "name": "python3"
  },
  "language_info": {
   "codemirror_mode": {
    "name": "ipython",
    "version": 3
   },
   "file_extension": ".py",
   "mimetype": "text/x-python",
   "name": "python",
   "nbconvert_exporter": "python",
   "pygments_lexer": "ipython3",
   "version": "3.13.7"
  }
 },
 "nbformat": 4,
 "nbformat_minor": 5
}
