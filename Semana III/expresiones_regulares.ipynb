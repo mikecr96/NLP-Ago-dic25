{
 "cells": [
  {
   "cell_type": "markdown",
   "metadata": {},
   "source": [
    "# 📚 Expresiones Regulares en Python\n",
    "\n",
    "## Guía del Módulo `re`\n",
    "\n",
    "Las expresiones regulares (regex) son patrones que se utilizan para hacer coincidir combinaciones de caracteres en cadenas de texto. En Python, el módulo `re` proporciona soporte para expresiones regulares."
   ]
  },
  {
   "cell_type": "markdown",
   "metadata": {},
   "source": [
    "## 1. Importar el módulo re"
   ]
  },
  {
   "cell_type": "code",
   "execution_count": 1,
   "metadata": {},
   "outputs": [],
   "source": [
    "import re"
   ]
  },
  {
   "cell_type": "markdown",
   "metadata": {},
   "source": [
    "## 2. Conceptos Básicos\n",
    "\n",
    "### 2.1 Caracteres literales"
   ]
  },
  {
   "cell_type": "code",
   "execution_count": 2,
   "metadata": {},
   "outputs": [
    {
     "data": {
      "text/plain": [
       "False"
      ]
     },
     "execution_count": 2,
     "metadata": {},
     "output_type": "execute_result"
    }
   ],
   "source": [
    "saludo = \"Hola a todos mis alumnos\"\n",
    "\"perro\" in saludo"
   ]
  },
  {
   "cell_type": "code",
   "execution_count": 3,
   "metadata": {},
   "outputs": [],
   "source": [
    "texto = \"Me gusta programar en Python!, python es lo máximo.\"\n",
    "\n",
    "resultado = re.search(\"python\", texto)"
   ]
  },
  {
   "cell_type": "code",
   "execution_count": 4,
   "metadata": {},
   "outputs": [
    {
     "data": {
      "text/plain": [
       "re.Match"
      ]
     },
     "execution_count": 4,
     "metadata": {},
     "output_type": "execute_result"
    }
   ],
   "source": [
    "type(resultado)"
   ]
  },
  {
   "cell_type": "code",
   "execution_count": 5,
   "metadata": {},
   "outputs": [
    {
     "name": "stdout",
     "output_type": "stream",
     "text": [
      "Se encontró: python en la posición 22-28\n"
     ]
    }
   ],
   "source": [
    "texto = \"Me gusta programar en python!, python es lo máximo.\"\n",
    "\n",
    "resultado = re.search(\"python\", texto)\n",
    "\n",
    "if resultado:\n",
    "    print(f\"Se encontró: {resultado.group()} en la posición {resultado.start()}-{resultado.end()}\")\n",
    "else:\n",
    "    print(\"No se encontró coincidencia\")"
   ]
  },
  {
   "cell_type": "code",
   "execution_count": 6,
   "metadata": {},
   "outputs": [
    {
     "data": {
      "text/plain": [
       "['__class__',\n",
       " '__class_getitem__',\n",
       " '__copy__',\n",
       " '__deepcopy__',\n",
       " '__delattr__',\n",
       " '__dir__',\n",
       " '__doc__',\n",
       " '__eq__',\n",
       " '__format__',\n",
       " '__ge__',\n",
       " '__getattribute__',\n",
       " '__getitem__',\n",
       " '__getstate__',\n",
       " '__gt__',\n",
       " '__hash__',\n",
       " '__init__',\n",
       " '__init_subclass__',\n",
       " '__le__',\n",
       " '__lt__',\n",
       " '__module__',\n",
       " '__ne__',\n",
       " '__new__',\n",
       " '__reduce__',\n",
       " '__reduce_ex__',\n",
       " '__repr__',\n",
       " '__setattr__',\n",
       " '__sizeof__',\n",
       " '__str__',\n",
       " '__subclasshook__',\n",
       " 'end',\n",
       " 'endpos',\n",
       " 'expand',\n",
       " 'group',\n",
       " 'groupdict',\n",
       " 'groups',\n",
       " 'lastgroup',\n",
       " 'lastindex',\n",
       " 'pos',\n",
       " 're',\n",
       " 'regs',\n",
       " 'span',\n",
       " 'start',\n",
       " 'string']"
      ]
     },
     "execution_count": 6,
     "metadata": {},
     "output_type": "execute_result"
    }
   ],
   "source": [
    "dir(resultado)"
   ]
  },
  {
   "cell_type": "markdown",
   "metadata": {},
   "source": [
    "### 2.2 Caracteres especiales (metacaracteres)\n",
    "\n",
    "Los metacaracteres tienen significados especiales:\n",
    "\n",
    "- `.` : Cualquier carácter excepto salto de línea\n",
    "- `^` : Inicio de cadena\n",
    "- `$` : Final de cadena\n",
    "- `*` : 0 o más repeticiones\n",
    "- `+` : 1 o más repeticiones\n",
    "- `?` : 0 o 1 repetición\n",
    "- `{m,n}` : Entre m y n repeticiones\n",
    "- `[]` : Conjunto de caracteres\n",
    "- `|` : Alternativa (OR)\n",
    "- `()` : Grupo"
   ]
  },
  {
   "cell_type": "code",
   "execution_count": 7,
   "metadata": {},
   "outputs": [
    {
     "data": {
      "text/plain": [
       "['gato', 'pato', 'rato', 'dato']"
      ]
     },
     "execution_count": 7,
     "metadata": {},
     "output_type": "execute_result"
    }
   ],
   "source": [
    "texto = \"gato, pato, rato, dato\"\n",
    "\n",
    "re.findall(\".ato\", texto)"
   ]
  },
  {
   "cell_type": "code",
   "execution_count": 8,
   "metadata": {},
   "outputs": [
    {
     "data": {
      "text/plain": [
       "'Python'"
      ]
     },
     "execution_count": 8,
     "metadata": {},
     "output_type": "execute_result"
    }
   ],
   "source": [
    "texto2 = \"Python es lo máximo, lo adoro\"\n",
    "re.search(\"^Python\", texto2).group()"
   ]
  },
  {
   "cell_type": "code",
   "execution_count": 9,
   "metadata": {},
   "outputs": [
    {
     "data": {
      "text/plain": [
       "<re.Match object; span=(24, 29), match='adoro'>"
      ]
     },
     "execution_count": 9,
     "metadata": {},
     "output_type": "execute_result"
    }
   ],
   "source": [
    "re.search(\"adoro$\", texto2)"
   ]
  },
  {
   "cell_type": "markdown",
   "metadata": {},
   "source": [
    "## 3. Funciones Principales del Módulo re\n",
    "\n",
    "### 3.1 re.search()\n",
    "Busca la primera coincidencia en cualquier parte de la cadena."
   ]
  },
  {
   "cell_type": "code",
   "execution_count": 10,
   "metadata": {},
   "outputs": [],
   "source": [
    "# Ya lo hicimos"
   ]
  },
  {
   "cell_type": "markdown",
   "metadata": {},
   "source": [
    "### 3.2 re.match()\n",
    "Busca coincidencias solo al inicio de la cadena."
   ]
  },
  {
   "cell_type": "code",
   "execution_count": 11,
   "metadata": {},
   "outputs": [
    {
     "data": {
      "text/plain": [
       "'Python es lo máximo, lo adoro'"
      ]
     },
     "execution_count": 11,
     "metadata": {},
     "output_type": "execute_result"
    }
   ],
   "source": [
    "texto2"
   ]
  },
  {
   "cell_type": "code",
   "execution_count": 12,
   "metadata": {},
   "outputs": [
    {
     "data": {
      "text/plain": [
       "True"
      ]
     },
     "execution_count": 12,
     "metadata": {},
     "output_type": "execute_result"
    }
   ],
   "source": [
    "bool(re.match(\"Python\", texto2))"
   ]
  },
  {
   "cell_type": "markdown",
   "metadata": {},
   "source": [
    "### 3.3 re.findall()\n",
    "Encuentra todas las coincidencias y las devuelve como una lista."
   ]
  },
  {
   "cell_type": "code",
   "execution_count": 13,
   "metadata": {},
   "outputs": [
    {
     "name": "stdout",
     "output_type": "stream",
     "text": [
      "Esta es una comilla doble \"\n"
     ]
    }
   ],
   "source": [
    "print(\"Esta es una comilla doble \\\"\")"
   ]
  },
  {
   "cell_type": "code",
   "execution_count": 14,
   "metadata": {},
   "outputs": [
    {
     "data": {
      "text/plain": [
       "'C:\\\\Users\\\\mike\\\\UP\\\\NLP\\\\2025\\\\Semana III'"
      ]
     },
     "execution_count": 14,
     "metadata": {},
     "output_type": "execute_result"
    }
   ],
   "source": [
    "\"C:\\\\Users\\\\mike\\\\UP\\\\NLP\\\\2025\\\\Semana III\""
   ]
  },
  {
   "cell_type": "code",
   "execution_count": 15,
   "metadata": {},
   "outputs": [
    {
     "data": {
      "text/plain": [
       "['1', '6', '23', '26', '96', '100000000000000']"
      ]
     },
     "execution_count": 15,
     "metadata": {},
     "output_type": "execute_result"
    }
   ],
   "source": [
    "texto3 = \"Mis números favoritos son : , . ! / ( ) = ? 1, 6, 23, 26, 96 y 100000000000000\"\n",
    "\n",
    "re.findall(r\"\\d+\", texto3)"
   ]
  },
  {
   "cell_type": "code",
   "execution_count": 16,
   "metadata": {},
   "outputs": [
    {
     "data": {
      "text/plain": [
       "[' ', ' ', ' ', ' : , . ! / ( ) = ? ', ', ', ', ', ', ', ', ', ' ', ' ']"
      ]
     },
     "execution_count": 16,
     "metadata": {},
     "output_type": "execute_result"
    }
   ],
   "source": [
    "re.findall(r\"\\W+\", texto3)"
   ]
  },
  {
   "cell_type": "markdown",
   "metadata": {},
   "source": [
    "### 3.4 re.finditer()\n",
    "Devuelve un iterador con objetos Match."
   ]
  },
  {
   "cell_type": "code",
   "execution_count": 17,
   "metadata": {},
   "outputs": [],
   "source": [
    "#"
   ]
  },
  {
   "cell_type": "markdown",
   "metadata": {},
   "source": [
    "### 3.5 re.sub()\n",
    "Sustituye coincidencias por un texto de reemplazo."
   ]
  },
  {
   "cell_type": "code",
   "execution_count": 18,
   "metadata": {},
   "outputs": [
    {
     "data": {
      "text/plain": [
       "'Python es lo máximo, lo adoro'"
      ]
     },
     "execution_count": 18,
     "metadata": {},
     "output_type": "execute_result"
    }
   ],
   "source": [
    "texto2"
   ]
  },
  {
   "cell_type": "code",
   "execution_count": 19,
   "metadata": {},
   "outputs": [
    {
     "data": {
      "text/plain": [
       "'Pythoneslomáximoloadoro'"
      ]
     },
     "execution_count": 19,
     "metadata": {},
     "output_type": "execute_result"
    }
   ],
   "source": [
    "re.sub(r\"\\W\", \"\", texto2, count=0)"
   ]
  },
  {
   "cell_type": "markdown",
   "metadata": {},
   "source": [
    "### 3.6 re.split()\n",
    "Divide una cadena usando un patrón como delimitador."
   ]
  },
  {
   "cell_type": "code",
   "execution_count": 20,
   "metadata": {},
   "outputs": [
    {
     "data": {
      "text/plain": [
       "['Mis frutas favoritas son: uva',\n",
       " '',\n",
       " '',\n",
       " '',\n",
       " '',\n",
       " '',\n",
       " '',\n",
       " '',\n",
       " '',\n",
       " ' manzana; pera: coco']"
      ]
     },
     "execution_count": 20,
     "metadata": {},
     "output_type": "execute_result"
    }
   ],
   "source": [
    "texto4 = \"Mis frutas favoritas son: uva,,,,,,,,, manzana; pera: coco\"\n",
    "texto4.split(\",\")"
   ]
  },
  {
   "cell_type": "code",
   "execution_count": 21,
   "metadata": {},
   "outputs": [
    {
     "data": {
      "text/plain": [
       "['Mis', 'frutas', 'favoritas', 'son', 'uva', 'manzana', 'pera', 'coco']"
      ]
     },
     "execution_count": 21,
     "metadata": {},
     "output_type": "execute_result"
    }
   ],
   "source": [
    "re.split(r\"[,:;\\s]+\", texto4)"
   ]
  },
  {
   "cell_type": "markdown",
   "metadata": {},
   "source": [
    "## 4. Clases de Caracteres Predefinidas\n",
    "\n",
    "### 4.1 Secuencias de escape comunes"
   ]
  },
  {
   "cell_type": "code",
   "execution_count": 28,
   "metadata": {},
   "outputs": [
    {
     "name": "stdout",
     "output_type": "stream",
     "text": [
      "Digitos: ['123', '5512345678']\n",
      "Palabras: ['Usuario123', 'contraseña', 'correo', 'dominio', 'mx', 'tel', '5512345678']\n",
      "Espacios encontrados: 4\n",
      "NO-Digitos: ['Usuario', ': contraseña, correo@dominio.mx, tel: ']\n"
     ]
    }
   ],
   "source": [
    "texto5 = \"Usuario123: contraseña, correo@dominio.mx, tel: 5512345678\"\n",
    "\n",
    "# \\d: dígitos [0-9]\n",
    "digitos = re.findall(r\"\\d+\", texto5)\n",
    "print(f\"Digitos: {digitos}\")\n",
    "\n",
    "# \\w: caracteres alfanuméricos [a-zA-Z0-9]\n",
    "palabras = re.findall(r\"\\w+\", texto5)\n",
    "print(f\"Palabras: {palabras}\")\n",
    "\n",
    "# \\s: espacios en blanco\n",
    "espacios = re.findall(r\"\\s+\", texto5)\n",
    "print(f\"Espacios encontrados: {len(espacios)}\")\n",
    "\n",
    "# Versiones negadas \\D \\W \\S\n",
    "no_digitos = re.findall(r\"\\D+\", texto5)\n",
    "print(f\"NO-Digitos: {no_digitos}\")"
   ]
  },
  {
   "cell_type": "markdown",
   "metadata": {},
   "source": [
    "### 4.2 Conjuntos de caracteres personalizados"
   ]
  },
  {
   "cell_type": "code",
   "execution_count": 38,
   "metadata": {},
   "outputs": [
    {
     "name": "stdout",
     "output_type": "stream",
     "text": [
      "Vocales: ['i', 'o', 'o', 'e', 'a', 'o', 'i', 'o', 'o', 'a', 'u', 'a', 'a', 'a', 'e', 'e']\n",
      "Se encontraron 16 vocales\n",
      "Consonantes: ['M', 's', 'c', 'l', 'r', 's', 'f', 'v', 'r', 't', 's', 's', 'n', 'z', 'l', 'n', 'r', 'n', 'j', 'v', 'r', 'd']\n",
      "Se encontraron 22 vocales\n"
     ]
    }
   ],
   "source": [
    "texto6 = \"Mis colores favoritos son: azul, naranja, verde.\"\n",
    "\n",
    "vocales = re.findall(\"[aeiou]\", texto6)\n",
    "print(f\"Vocales: {vocales}\")\n",
    "print(f\"Se encontraron {len(vocales)} vocales\")\n",
    "\n",
    "# [a-z] [A-Z] [0-9] Rangos\n",
    "\n",
    "# Negación\n",
    "consonantes = re.findall(r\"[^aeiou:\\s.,]\", texto6)\n",
    "print(f\"Consonantes: {consonantes}\")\n",
    "print(f\"Se encontraron {len(consonantes)} vocales\")"
   ]
  },
  {
   "cell_type": "markdown",
   "metadata": {},
   "source": [
    "## Cheat Sheet - Referencia Rápida\n",
    "\n",
    "### Metacaracteres básicos:\n",
    "- `.` - Cualquier carácter\n",
    "- `^` - Inicio de línea\n",
    "- `$` - Final de línea\n",
    "- `*` - 0 o más repeticiones\n",
    "- `+` - 1 o más repeticiones\n",
    "- `?` - 0 o 1 repetición\n",
    "- `{n,m}` - Entre n y m repeticiones\n",
    "- `[]` - Conjunto de caracteres\n",
    "- `|` - OR lógico\n",
    "- `()` - Grupo\n",
    "\n",
    "### Clases de caracteres:\n",
    "- `\\d` - Dígitos [0-9]\n",
    "- `\\D` - No dígitos\n",
    "- `\\w` - Caracteres de palabra [a-zA-Z0-9_]\n",
    "- `\\W` - No caracteres de palabra\n",
    "- `\\s` - Espacios en blanco\n",
    "- `\\S` - No espacios en blanco\n",
    "\n",
    "### Funciones principales:\n",
    "- `re.search(patron, texto)` - Busca primera coincidencia\n",
    "- `re.match(patron, texto)` - Busca al inicio\n",
    "- `re.findall(patron, texto)` - Encuentra todas\n",
    "- `re.finditer(patron, texto)` - Iterador de coincidencias\n",
    "- `re.sub(patron, reemplazo, texto)` - Reemplazar\n",
    "- `re.split(patron, texto)` - Dividir cadena\n",
    "- `re.compile(patron)` - Compilar patrón\n",
    "\n",
    "### Banderas comunes:\n",
    "- `re.IGNORECASE` o `re.I` - Ignorar mayúsculas/minúsculas\n",
    "- `re.MULTILINE` o `re.M` - Modo multilínea\n",
    "- `re.DOTALL` o `re.S` - . incluye \\n"
   ]
  }
 ],
 "metadata": {
  "kernelspec": {
   "display_name": "NLP25",
   "language": "python",
   "name": "python3"
  },
  "language_info": {
   "codemirror_mode": {
    "name": "ipython",
    "version": 3
   },
   "file_extension": ".py",
   "mimetype": "text/x-python",
   "name": "python",
   "nbconvert_exporter": "python",
   "pygments_lexer": "ipython3",
   "version": "3.13.5"
  }
 },
 "nbformat": 4,
 "nbformat_minor": 4
}
