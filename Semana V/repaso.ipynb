{
 "cells": [
  {
   "cell_type": "code",
   "execution_count": 1,
   "id": "17be06d5",
   "metadata": {},
   "outputs": [],
   "source": [
    "# Sección de imports\n",
    "import nltk\n",
    "from collections import Counter"
   ]
  },
  {
   "cell_type": "markdown",
   "id": "323a2ccb",
   "metadata": {},
   "source": [
    "---\n",
    "## Tokenización"
   ]
  },
  {
   "cell_type": "code",
   "execution_count": null,
   "id": "0db79d96",
   "metadata": {},
   "outputs": [],
   "source": [
    "texto = \"\"\"El procesamiento del lenguaje natural es una rama de la Inteligencia Artificial.\n",
    "NLTK es una excelente herramienta para aprender NLP.\n",
    "¡Vamos a explorar sus funcionalidades!\"\"\""
   ]
  },
  {
   "cell_type": "code",
   "execution_count": 3,
   "id": "626f0a6a",
   "metadata": {},
   "outputs": [],
   "source": [
    "texto_lower = texto.lower()"
   ]
  },
  {
   "cell_type": "code",
   "execution_count": 8,
   "id": "676d93a0",
   "metadata": {},
   "outputs": [],
   "source": [
    "import re\n",
    "\n",
    "texto_lower_limpio = re.sub(r\"\\W+\", \" \", texto_lower)"
   ]
  },
  {
   "cell_type": "code",
   "execution_count": 10,
   "id": "cb2c9a29",
   "metadata": {},
   "outputs": [],
   "source": [
    "tokens = nltk.word_tokenize(texto_lower_limpio)"
   ]
  },
  {
   "cell_type": "markdown",
   "id": "0895d731",
   "metadata": {},
   "source": [
    "---\n",
    "## Stopwords"
   ]
  },
  {
   "cell_type": "code",
   "execution_count": 11,
   "id": "6cacb987",
   "metadata": {},
   "outputs": [
    {
     "data": {
      "text/plain": [
       "['de',\n",
       " 'la',\n",
       " 'que',\n",
       " 'el',\n",
       " 'en',\n",
       " 'y',\n",
       " 'a',\n",
       " 'los',\n",
       " 'del',\n",
       " 'se',\n",
       " 'las',\n",
       " 'por',\n",
       " 'un',\n",
       " 'para',\n",
       " 'con',\n",
       " 'no',\n",
       " 'una',\n",
       " 'su',\n",
       " 'al',\n",
       " 'lo']"
      ]
     },
     "execution_count": 11,
     "metadata": {},
     "output_type": "execute_result"
    }
   ],
   "source": [
    "from nltk.corpus import stopwords\n",
    "\n",
    "stopwords_es = stopwords.words(\"spanish\")\n",
    "stopwords_es[:20]"
   ]
  },
  {
   "cell_type": "code",
   "execution_count": 13,
   "id": "c50a4aff",
   "metadata": {},
   "outputs": [
    {
     "data": {
      "text/plain": [
       "313"
      ]
     },
     "execution_count": 13,
     "metadata": {},
     "output_type": "execute_result"
    }
   ],
   "source": [
    "len(set(stopwords_es))"
   ]
  },
  {
   "cell_type": "code",
   "execution_count": 15,
   "id": "720b05c5",
   "metadata": {},
   "outputs": [
    {
     "data": {
      "text/plain": [
       "['procesamiento',\n",
       " 'lenguaje',\n",
       " 'natural',\n",
       " 'rama',\n",
       " 'inteligencia',\n",
       " 'artificial',\n",
       " 'nltk',\n",
       " 'excelente',\n",
       " 'herramienta',\n",
       " 'aprender',\n",
       " 'nlp',\n",
       " 'vamos',\n",
       " 'explorar',\n",
       " 'funcionalidades']"
      ]
     },
     "execution_count": 15,
     "metadata": {},
     "output_type": "execute_result"
    }
   ],
   "source": [
    "# List comprehension\n",
    "tokens_filtrados = [palabra for palabra in tokens if palabra not in stopwords_es]\n",
    "tokens_filtrados"
   ]
  },
  {
   "cell_type": "code",
   "execution_count": 16,
   "id": "3296d534",
   "metadata": {},
   "outputs": [
    {
     "name": "stdout",
     "output_type": "stream",
     "text": [
      "Había 25 tokens antes de filtrar.\n",
      "Hay 14 tokens después de limpiar\n"
     ]
    }
   ],
   "source": [
    "print(f\"Había {len(tokens)} tokens antes de filtrar.\\nHay {len(tokens_filtrados)} tokens después de limpiar\")"
   ]
  },
  {
   "cell_type": "markdown",
   "id": "2846180a",
   "metadata": {},
   "source": [
    "---\n",
    "## Función de limpieza"
   ]
  },
  {
   "cell_type": "code",
   "execution_count": 17,
   "id": "711c94be",
   "metadata": {},
   "outputs": [],
   "source": [
    "def limpiar_texto(texto, idioma=\"spanish\", as_text=False):\n",
    "    texto = texto.lower()\n",
    "    texto = re.sub(r\"\\W+\", \" \", texto)\n",
    "    tokens = nltk.word_tokenize(texto, language=idioma)\n",
    "    stopwords = nltk.corpus.stopwords.words(idioma)\n",
    "    tokens_filtrados = [palabra for palabra in tokens if palabra not in stopwords]\n",
    "    if as_text:\n",
    "        return \" \".join(tokens_filtrados)\n",
    "    else:\n",
    "        return tokens_filtrados"
   ]
  },
  {
   "cell_type": "code",
   "execution_count": 18,
   "id": "80c3b171",
   "metadata": {},
   "outputs": [
    {
     "data": {
      "text/plain": [
       "'El procesamiento del lenguaje natural es una rama de la Inteligencia Artificial.\\nNLTK es una excelente herramienta para aprender NLP.\\n¡Vamos a explorar sus funcionalidades!'"
      ]
     },
     "execution_count": 18,
     "metadata": {},
     "output_type": "execute_result"
    }
   ],
   "source": [
    "texto"
   ]
  },
  {
   "cell_type": "code",
   "execution_count": 20,
   "id": "00073062",
   "metadata": {},
   "outputs": [
    {
     "data": {
      "text/plain": [
       "'procesamiento lenguaje natural rama inteligencia artificial nltk excelente herramienta aprender nlp vamos explorar funcionalidades'"
      ]
     },
     "execution_count": 20,
     "metadata": {},
     "output_type": "execute_result"
    }
   ],
   "source": [
    "limpiar_texto(texto, as_text=True)"
   ]
  },
  {
   "cell_type": "markdown",
   "id": "02835612",
   "metadata": {},
   "source": [
    "---\n",
    "## Stemming y Lematización"
   ]
  },
  {
   "cell_type": "code",
   "execution_count": 21,
   "id": "21b96a43",
   "metadata": {},
   "outputs": [],
   "source": [
    "from nltk.stem import SnowballStemmer\n",
    "\n",
    "stemmer = SnowballStemmer(\"spanish\")"
   ]
  },
  {
   "cell_type": "code",
   "execution_count": 22,
   "id": "92e51e90",
   "metadata": {},
   "outputs": [],
   "source": [
    "tokens_filtrados = limpiar_texto(texto)"
   ]
  },
  {
   "cell_type": "code",
   "execution_count": 24,
   "id": "e400528e",
   "metadata": {},
   "outputs": [
    {
     "name": "stdout",
     "output_type": "stream",
     "text": [
      "Palabra: procesamiento | Palabra con stemming: proces\n",
      "Palabra: lenguaje | Palabra con stemming: lenguaj\n",
      "Palabra: natural | Palabra con stemming: natural\n",
      "Palabra: rama | Palabra con stemming: ram\n",
      "Palabra: inteligencia | Palabra con stemming: inteligent\n",
      "Palabra: artificial | Palabra con stemming: artificial\n",
      "Palabra: nltk | Palabra con stemming: nltk\n",
      "Palabra: excelente | Palabra con stemming: excelent\n",
      "Palabra: herramienta | Palabra con stemming: herramient\n",
      "Palabra: aprender | Palabra con stemming: aprend\n",
      "Palabra: nlp | Palabra con stemming: nlp\n",
      "Palabra: vamos | Palabra con stemming: vam\n",
      "Palabra: explorar | Palabra con stemming: explor\n",
      "Palabra: funcionalidades | Palabra con stemming: funcional\n"
     ]
    }
   ],
   "source": [
    "for token in tokens_filtrados:\n",
    "    print(f\"Palabra: {token} | Palabra con stemming: {stemmer.stem(token)}\")"
   ]
  },
  {
   "cell_type": "code",
   "execution_count": null,
   "id": "eb6c1d9b",
   "metadata": {},
   "outputs": [
    {
     "name": "stdout",
     "output_type": "stream",
     "text": [
      "funny\n",
      "funny\n",
      "funny\n",
      "pretty\n",
      "pretty\n",
      "pretty\n",
      "happy\n",
      "happy\n",
      "happy\n"
     ]
    }
   ],
   "source": [
    "# Lematización\n",
    "\n",
    "from nltk.stem import WordNetLemmatizer\n",
    "\n",
    "lema = WordNetLemmatizer()\n",
    "\n",
    "adjs = [\"funny\", \"funnier\", \"funniest\",\n",
    "         \"pretty\", \"prettier\", \"prettiest\",\n",
    "         \"happy\", \"happier\", \"happiest\"]\n",
    "\n",
    "for adj in adjs:\n",
    "    print(f\"{lema.lemmatize(adj, \"a\")}\")"
   ]
  },
  {
   "cell_type": "code",
   "execution_count": 29,
   "id": "a7ffab0c",
   "metadata": {},
   "outputs": [
    {
     "name": "stdout",
     "output_type": "stream",
     "text": [
      "do\n",
      "do\n",
      "do\n",
      "do\n",
      "dance\n",
      "dance\n",
      "dance\n",
      "dance\n",
      "teach\n",
      "teach\n",
      "teach\n",
      "teach\n"
     ]
    }
   ],
   "source": [
    "verbs = [\"do\", \"doing\", \"did\", \"does\",\n",
    "         \"dance\", \"dances\", \"dancing\", \"danced\",\n",
    "         \"teach\", \"teaches\", \"taught\", \"teaching\"]\n",
    "\n",
    "for verb in verbs:\n",
    "    print(f\"{lema.lemmatize(verb, \"v\")}\")"
   ]
  },
  {
   "cell_type": "markdown",
   "id": "59907c6d",
   "metadata": {},
   "source": [
    "---\n",
    "## Análisis de frecuencia"
   ]
  },
  {
   "cell_type": "code",
   "execution_count": 30,
   "id": "178efdb2",
   "metadata": {},
   "outputs": [],
   "source": [
    "from nltk import FreqDist\n",
    "\n",
    "texto_largo = \"\"\"La televisora es la primera estación de televisión educativa y cultural de México sin fines comerciales. \n",
    "La fundación del canal tuvo como promotores a Alejo Peralta y Díaz Ceballos y Eugenio Méndez Docurro. \n",
    "Ambos contaron con el apoyo del Secretario de Educación Pública, Jaime Torres Bodet, y del Secretario de Comunicaciones, Walter Cross Buchanan.\n",
    "Canal 11 con el distintivo XEIPN-TV inició transmisiones el 2 de marzo de 1959 en las instalaciones del campus Santo Tomás del Instituto Politécnico Nacional por medio de un transmisor de 5 kW. \n",
    "La señal era tan limitada que apenas se captaba en las cercanías de la emisora.\"\"\"\n",
    "\n",
    "tokens_filtrados = limpiar_texto(texto_largo)"
   ]
  },
  {
   "cell_type": "code",
   "execution_count": 39,
   "id": "6898fcc0",
   "metadata": {},
   "outputs": [
    {
     "data": {
      "text/plain": [
       "FreqDist({'canal': 2, 'secretario': 2, 'televisora': 1, 'primera': 1, 'estación': 1, 'televisión': 1, 'educativa': 1, 'cultural': 1, 'méxico': 1, 'fines': 1, ...})"
      ]
     },
     "execution_count": 39,
     "metadata": {},
     "output_type": "execute_result"
    }
   ],
   "source": [
    "frecs"
   ]
  },
  {
   "cell_type": "code",
   "execution_count": 41,
   "id": "af0ca59d",
   "metadata": {},
   "outputs": [
    {
     "name": "stdout",
     "output_type": "stream",
     "text": [
      "Palabra \"televisora\" aparece 1 veces.\n",
      "Palabra \"primera\" aparece 1 veces.\n",
      "Palabra \"estación\" aparece 1 veces.\n",
      "Palabra \"televisión\" aparece 1 veces.\n",
      "Palabra \"educativa\" aparece 1 veces.\n",
      "Palabra \"cultural\" aparece 1 veces.\n",
      "Palabra \"méxico\" aparece 1 veces.\n",
      "Palabra \"fines\" aparece 1 veces.\n",
      "Palabra \"comerciales\" aparece 1 veces.\n",
      "Palabra \"fundación\" aparece 1 veces.\n",
      "Palabra \"canal\" aparece 2 veces.\n",
      "Palabra \"promotores\" aparece 1 veces.\n",
      "Palabra \"alejo\" aparece 1 veces.\n",
      "Palabra \"peralta\" aparece 1 veces.\n",
      "Palabra \"díaz\" aparece 1 veces.\n",
      "Palabra \"ceballos\" aparece 1 veces.\n",
      "Palabra \"eugenio\" aparece 1 veces.\n",
      "Palabra \"méndez\" aparece 1 veces.\n",
      "Palabra \"docurro\" aparece 1 veces.\n",
      "Palabra \"ambos\" aparece 1 veces.\n",
      "Palabra \"contaron\" aparece 1 veces.\n",
      "Palabra \"apoyo\" aparece 1 veces.\n",
      "Palabra \"secretario\" aparece 2 veces.\n",
      "Palabra \"educación\" aparece 1 veces.\n",
      "Palabra \"pública\" aparece 1 veces.\n",
      "Palabra \"jaime\" aparece 1 veces.\n",
      "Palabra \"torres\" aparece 1 veces.\n",
      "Palabra \"bodet\" aparece 1 veces.\n",
      "Palabra \"comunicaciones\" aparece 1 veces.\n",
      "Palabra \"walter\" aparece 1 veces.\n",
      "Palabra \"cross\" aparece 1 veces.\n",
      "Palabra \"buchanan\" aparece 1 veces.\n",
      "Palabra \"11\" aparece 1 veces.\n",
      "Palabra \"distintivo\" aparece 1 veces.\n",
      "Palabra \"xeipn\" aparece 1 veces.\n",
      "Palabra \"tv\" aparece 1 veces.\n",
      "Palabra \"inició\" aparece 1 veces.\n",
      "Palabra \"transmisiones\" aparece 1 veces.\n",
      "Palabra \"2\" aparece 1 veces.\n",
      "Palabra \"marzo\" aparece 1 veces.\n",
      "Palabra \"1959\" aparece 1 veces.\n",
      "Palabra \"instalaciones\" aparece 1 veces.\n",
      "Palabra \"campus\" aparece 1 veces.\n",
      "Palabra \"santo\" aparece 1 veces.\n",
      "Palabra \"tomás\" aparece 1 veces.\n",
      "Palabra \"instituto\" aparece 1 veces.\n",
      "Palabra \"politécnico\" aparece 1 veces.\n",
      "Palabra \"nacional\" aparece 1 veces.\n",
      "Palabra \"medio\" aparece 1 veces.\n",
      "Palabra \"transmisor\" aparece 1 veces.\n",
      "Palabra \"5\" aparece 1 veces.\n",
      "Palabra \"kw\" aparece 1 veces.\n",
      "Palabra \"señal\" aparece 1 veces.\n",
      "Palabra \"tan\" aparece 1 veces.\n",
      "Palabra \"limitada\" aparece 1 veces.\n",
      "Palabra \"apenas\" aparece 1 veces.\n",
      "Palabra \"captaba\" aparece 1 veces.\n",
      "Palabra \"cercanías\" aparece 1 veces.\n",
      "Palabra \"emisora\" aparece 1 veces.\n"
     ]
    }
   ],
   "source": [
    "frecs = FreqDist(tokens_filtrados)\n",
    "\n",
    "for palabra, frecuencia in frecs.items():\n",
    "    print(f\"Palabra \\\"{palabra}\\\" aparece {frecuencia} veces.\")"
   ]
  },
  {
   "cell_type": "code",
   "execution_count": 42,
   "id": "4462286a",
   "metadata": {},
   "outputs": [],
   "source": [
    "import matplotlib.pyplot as plt"
   ]
  },
  {
   "cell_type": "code",
   "execution_count": 45,
   "id": "cc43c6e1",
   "metadata": {},
   "outputs": [
    {
     "data": {
      "image/png": "[encoded data removed]",
      "text/plain": [
       "<Figure size 1200x600 with 1 Axes>"
      ]
     },
     "metadata": {},
     "output_type": "display_data"
    }
   ],
   "source": [
    "plt.figure(figsize=(12, 6))\n",
    "frecs.plot(10, title=\"10 palabras más comunes\")\n",
    "plt.xticks(rotation=45)\n",
    "plt.tight_layout()\n",
    "plt.show()"
   ]
  },
  {
   "cell_type": "markdown",
   "id": "f0c3eb7f",
   "metadata": {},
   "source": [
    "---\n",
    "## POS"
   ]
  },
  {
   "cell_type": "code",
   "execution_count": 46,
   "id": "a40d17ec",
   "metadata": {},
   "outputs": [],
   "source": [
    "significados_pos = {\n",
    "    \"NN\": \"Sustantivo singular\",\n",
    "    \"NNS\": \"Sustantivo plural\",\n",
    "    \"VBZ\": \"Verbo en 3a persona singular\",\n",
    "    \"VBG\": \"Verbo en gerundio\",\n",
    "    \"JJ\": \"Adjetivo\",\n",
    "    \"NNP\": \"Nombre propio singular\"\n",
    "}"
   ]
  },
  {
   "cell_type": "code",
   "execution_count": 51,
   "id": "e7a88792",
   "metadata": {},
   "outputs": [],
   "source": [
    "tokens_tagged = nltk.pos_tag(verbs)"
   ]
  },
  {
   "cell_type": "markdown",
   "id": "7da16b6b",
   "metadata": {},
   "source": [
    "---\n",
    "## NER"
   ]
  },
  {
   "cell_type": "code",
   "execution_count": 53,
   "id": "bb20cdba",
   "metadata": {},
   "outputs": [],
   "source": [
    "arbol = nltk.ne_chunk(tokens_tagged)"
   ]
  },
  {
   "cell_type": "code",
   "execution_count": 54,
   "id": "592f21aa",
   "metadata": {},
   "outputs": [
    {
     "name": "stdout",
     "output_type": "stream",
     "text": [
      "                                              S                                                                        \n",
      "   ___________________________________________|_________________________________________________________________        \n",
      "do/VB doing/VBG did/VBD does/VBZ dance/VB dances/NNS dancing/VBG danced/JJ teach/NN teaches/NNS taught/VBD teaching/VBG\n",
      "\n"
     ]
    }
   ],
   "source": [
    "arbol.pretty_print()"
   ]
  }
 ],
 "metadata": {
  "kernelspec": {
   "display_name": "NLP25",
   "language": "python",
   "name": "python3"
  },
  "language_info": {
   "codemirror_mode": {
    "name": "ipython",
    "version": 3
   },
   "file_extension": ".py",
   "mimetype": "text/x-python",
   "name": "python",
   "nbconvert_exporter": "python",
   "pygments_lexer": "ipython3",
   "version": "3.13.7"
  }
 },
 "nbformat": 4,
 "nbformat_minor": 5
}
