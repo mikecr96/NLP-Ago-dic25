{
 "cells": [
  {
   "cell_type": "markdown",
   "id": "71e27d73",
   "metadata": {},
   "source": [
    "# Input / Output"
   ]
  },
  {
   "cell_type": "code",
   "execution_count": 1,
   "id": "0b0d8377",
   "metadata": {},
   "outputs": [],
   "source": [
    "entrada = input(\"\"\"Elija por favor una de las siguientes:\n",
    "1) Pizza\n",
    "2) Hamburguesa\"\"\")"
   ]
  },
  {
   "cell_type": "code",
   "execution_count": 2,
   "id": "f71bfa87",
   "metadata": {},
   "outputs": [
    {
     "data": {
      "text/plain": [
       "'Hola mundo'"
      ]
     },
     "execution_count": 2,
     "metadata": {},
     "output_type": "execute_result"
    }
   ],
   "source": [
    "entrada"
   ]
  },
  {
   "cell_type": "code",
   "execution_count": 3,
   "id": "3888ab10",
   "metadata": {},
   "outputs": [
    {
     "data": {
      "text/plain": [
       "str"
      ]
     },
     "execution_count": 3,
     "metadata": {},
     "output_type": "execute_result"
    }
   ],
   "source": [
    "type(entrada)"
   ]
  },
  {
   "cell_type": "markdown",
   "id": "1138e210",
   "metadata": {},
   "source": [
    "Método 1"
   ]
  },
  {
   "cell_type": "code",
   "execution_count": 5,
   "id": "66f20d79",
   "metadata": {},
   "outputs": [],
   "source": [
    "f = open(\"prueba.txt\", \"w\")\n",
    "#\n",
    "#\n",
    "#\n",
    "f.close()"
   ]
  },
  {
   "cell_type": "markdown",
   "id": "ba2e6574",
   "metadata": {},
   "source": [
    "Método 2"
   ]
  },
  {
   "cell_type": "code",
   "execution_count": 15,
   "id": "f56301cf",
   "metadata": {},
   "outputs": [],
   "source": [
    "with open(\"prueba2.txt\", \"w\") as f:\n",
    "    pass"
   ]
  },
  {
   "cell_type": "code",
   "execution_count": 24,
   "id": "0f233173",
   "metadata": {},
   "outputs": [],
   "source": [
    "with open(\"prueba2.txt\", \"w\") as f:\n",
    "    # print(type(f))\n",
    "    # print(dir(f))\n",
    "    f.write(\"Hola mundo\\n\")\n",
    "    f.write(\"Saludos a mis alumnos\\n\")\n",
    "    f.write(\"NLP es lo máximo\\n\")"
   ]
  },
  {
   "cell_type": "code",
   "execution_count": 25,
   "id": "9eae8a9b",
   "metadata": {},
   "outputs": [
    {
     "name": "stdout",
     "output_type": "stream",
     "text": [
      "Hola mundo\n",
      "Saludos a mis alumnos\n",
      "NLP es lo máximo\n",
      "\n"
     ]
    }
   ],
   "source": [
    "with open(\"prueba2.txt\") as f:\n",
    "    tmp = f.read()\n",
    "    print(tmp)"
   ]
  },
  {
   "cell_type": "code",
   "execution_count": 28,
   "id": "4aed293b",
   "metadata": {},
   "outputs": [
    {
     "name": "stdout",
     "output_type": "stream",
     "text": [
      "['Hola mundo\\n', 'Saludos a mis alumnos\\n', 'NLP es lo máximo\\n']\n"
     ]
    }
   ],
   "source": [
    "with open(\"prueba2.txt\") as f:\n",
    "    tmp = f.readlines()\n",
    "    print(tmp)"
   ]
  },
  {
   "cell_type": "code",
   "execution_count": null,
   "id": "f6bd58c9",
   "metadata": {},
   "outputs": [],
   "source": [
    "with open(\"prueba2.txt\") as f:\n",
    "    tmp = f.readline() # lee hasta encontrar una nueva línea o EOF\n",
    "    print(tmp)"
   ]
  },
  {
   "cell_type": "code",
   "execution_count": 30,
   "id": "2defde01",
   "metadata": {},
   "outputs": [],
   "source": [
    "with open(\"prueba2.txt\", \"a\") as f:\n",
    "    # f.write(\"Hola mundo\\n\")\n",
    "    # f.write(\"Saludos a mis alumnos\\n\")\n",
    "    # f.write(\"NLP es lo máximo\\n\")\n",
    "    f.write(\"Nueva línea\\n\")\n",
    "    f.write(\"Otra nueva línea\\n\")"
   ]
  },
  {
   "cell_type": "code",
   "execution_count": 32,
   "id": "62198d30",
   "metadata": {},
   "outputs": [],
   "source": [
    "lista = [\n",
    "    \"Hola mundo\\n\",\n",
    "    \"Saludos a todos\\n\",\n",
    "    \"NLP es lo máximo\\n\"\n",
    "    \"Panteras UP\"\n",
    "]\n",
    "\n",
    "with open(\"prueba2.txt\", \"w\") as f:\n",
    "    f.writelines(lista)"
   ]
  },
  {
   "cell_type": "code",
   "execution_count": null,
   "id": "cbfb304b",
   "metadata": {},
   "outputs": [],
   "source": []
  }
 ],
 "metadata": {
  "kernelspec": {
   "display_name": "NLP25",
   "language": "python",
   "name": "python3"
  },
  "language_info": {
   "codemirror_mode": {
    "name": "ipython",
    "version": 3
   },
   "file_extension": ".py",
   "mimetype": "text/x-python",
   "name": "python",
   "nbconvert_exporter": "python",
   "pygments_lexer": "ipython3",
   "version": "3.13.5"
  }
 },
 "nbformat": 4,
 "nbformat_minor": 5
}
